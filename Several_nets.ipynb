{
  "nbformat": 4,
  "nbformat_minor": 0,
  "metadata": {
    "colab": {
      "name": "Several nets.ipynb",
      "version": "0.3.2",
      "provenance": [],
      "toc_visible": true
    },
    "kernelspec": {
      "name": "python3",
      "display_name": "Python 3"
    }
  },
  "cells": [
    {
      "metadata": {
        "id": "TT_iFQ2pCFOF",
        "colab_type": "code",
        "colab": {}
      },
      "cell_type": "code",
      "source": [
        "import numpy as np\n",
        "import matplotlib.pyplot as plt\n",
        "\n",
        "from sklearn.linear_model import perceptron\n",
        "\n",
        "%matplotlib inline\n"
      ],
      "execution_count": 0,
      "outputs": []
    },
    {
      "metadata": {
        "id": "xndqp2d-CJLM",
        "colab_type": "code",
        "colab": {}
      },
      "cell_type": "code",
      "source": [
        "# data\n",
        "d = np.array([\n",
        "[2,3,4,5,6,7,8,9,0],\n",
        "[9,8,0,7,1,2,3,4,2]\n",
        "])\n",
        "\n",
        "\n",
        "# lables\n",
        "t = np.array([1,1,1,0,0,0,0,1,0])"
      ],
      "execution_count": 0,
      "outputs": []
    },
    {
      "metadata": {
        "id": "PBbrJGTpDIZb",
        "colab_type": "code",
        "colab": {
          "base_uri": "https://localhost:8080/",
          "height": 282
        },
        "outputId": "e31e79e9-5e51-4f90-9c3a-0a705261e5f9"
      },
      "cell_type": "code",
      "source": [
        "colormap = np.array(['r', 'b'])\n",
        "plt.scatter(d[0], d[1], c = colormap[t], s = 40)"
      ],
      "execution_count": 8,
      "outputs": [
        {
          "output_type": "execute_result",
          "data": {
            "text/plain": [
              "<matplotlib.collections.PathCollection at 0x7f19db5f4cc0>"
            ]
          },
          "metadata": {
            "tags": []
          },
          "execution_count": 8
        },
        {
          "output_type": "display_data",
          "data": {
            "image/png": "[encoded data removed]",
            "text/plain": [
              "<Figure size 432x288 with 1 Axes>"
            ]
          },
          "metadata": {
            "tags": []
          }
        }
      ]
    },
    {
      "metadata": {
        "id": "NqLuSSWQE9eU",
        "colab_type": "code",
        "colab": {}
      },
      "cell_type": "code",
      "source": [
        "# rotate the data 180 degrees\n",
        "d90 = np.rot90(d)\n",
        "d90 = np.rot90(d90)\n",
        "d90 = np.rot90(d90)"
      ],
      "execution_count": 0,
      "outputs": []
    },
    {
      "metadata": {
        "id": "DxaS8SWHE9qa",
        "colab_type": "code",
        "colab": {
          "base_uri": "https://localhost:8080/",
          "height": 5178
        },
        "outputId": "5e163c79-8666-4585-b5d0-a25c27c34fd9"
      },
      "cell_type": "code",
      "source": [
        "# create perceptron\n",
        "net = perceptron.Perceptron(n_iter = 100, verbose =1, random_state = None, fit_intercept = True, eta0 = 0.002)\n",
        "\n",
        "net.fit(d90, t)\n"
      ],
      "execution_count": 10,
      "outputs": [
        {
          "output_type": "stream",
          "text": [
            "-- Epoch 1\n",
            "Norm: 0.02, NNZs: 1, Bias: 0.000000, T: 9, Avg. loss: 0.040667\n",
            "Total training time: 0.00 seconds.\n",
            "-- Epoch 2\n",
            "Norm: 0.02, NNZs: 2, Bias: -0.002000, T: 18, Avg. loss: 0.038222\n",
            "Total training time: 0.00 seconds.\n",
            "-- Epoch 3\n",
            "Norm: 0.02, NNZs: 2, Bias: -0.004000, T: 27, Avg. loss: 0.038000\n",
            "Total training time: 0.00 seconds.\n",
            "-- Epoch 4\n",
            "Norm: 0.02, NNZs: 2, Bias: -0.004000, T: 36, Avg. loss: 0.034667\n",
            "Total training time: 0.00 seconds.\n",
            "-- Epoch 5\n",
            "Norm: 0.01, NNZs: 2, Bias: -0.006000, T: 45, Avg. loss: 0.040667\n",
            "Total training time: 0.00 seconds.\n",
            "-- Epoch 6\n",
            "Norm: 0.01, NNZs: 2, Bias: -0.006000, T: 54, Avg. loss: 0.019111\n",
            "Total training time: 0.00 seconds.\n",
            "-- Epoch 7\n",
            "Norm: 0.02, NNZs: 2, Bias: -0.008000, T: 63, Avg. loss: 0.050222\n",
            "Total training time: 0.00 seconds.\n",
            "-- Epoch 8\n",
            "Norm: 0.02, NNZs: 2, Bias: -0.008000, T: 72, Avg. loss: 0.036667\n",
            "Total training time: 0.00 seconds.\n",
            "-- Epoch 9\n",
            "Norm: 0.03, NNZs: 2, Bias: -0.008000, T: 81, Avg. loss: 0.016889\n",
            "Total training time: 0.00 seconds.\n",
            "-- Epoch 10\n",
            "Norm: 0.01, NNZs: 2, Bias: -0.014000, T: 90, Avg. loss: 0.043333\n",
            "Total training time: 0.00 seconds.\n",
            "-- Epoch 11\n",
            "Norm: 0.02, NNZs: 2, Bias: -0.014000, T: 99, Avg. loss: 0.028222\n",
            "Total training time: 0.00 seconds.\n",
            "-- Epoch 12\n",
            "Norm: 0.01, NNZs: 2, Bias: -0.014000, T: 108, Avg. loss: 0.033333\n",
            "Total training time: 0.00 seconds.\n",
            "-- Epoch 13\n",
            "Norm: 0.01, NNZs: 2, Bias: -0.016000, T: 117, Avg. loss: 0.022444\n",
            "Total training time: 0.00 seconds.\n",
            "-- Epoch 14\n",
            "Norm: 0.03, NNZs: 2, Bias: -0.014000, T: 126, Avg. loss: 0.033333\n",
            "Total training time: 0.00 seconds.\n",
            "-- Epoch 15\n",
            "Norm: 0.01, NNZs: 2, Bias: -0.016000, T: 135, Avg. loss: 0.044222\n",
            "Total training time: 0.00 seconds.\n",
            "-- Epoch 16\n",
            "Norm: 0.01, NNZs: 2, Bias: -0.016000, T: 144, Avg. loss: 0.032889\n",
            "Total training time: 0.00 seconds.\n",
            "-- Epoch 17\n",
            "Norm: 0.02, NNZs: 2, Bias: -0.018000, T: 153, Avg. loss: 0.032889\n",
            "Total training time: 0.00 seconds.\n",
            "-- Epoch 18\n",
            "Norm: 0.02, NNZs: 2, Bias: -0.020000, T: 162, Avg. loss: 0.036222\n",
            "Total training time: 0.00 seconds.\n",
            "-- Epoch 19\n",
            "Norm: 0.02, NNZs: 2, Bias: -0.020000, T: 171, Avg. loss: 0.035111\n",
            "Total training time: 0.00 seconds.\n",
            "-- Epoch 20\n",
            "Norm: 0.01, NNZs: 2, Bias: -0.022000, T: 180, Avg. loss: 0.037333\n",
            "Total training time: 0.00 seconds.\n",
            "-- Epoch 21\n",
            "Norm: 0.01, NNZs: 2, Bias: -0.020000, T: 189, Avg. loss: 0.019778\n",
            "Total training time: 0.00 seconds.\n",
            "-- Epoch 22\n",
            "Norm: 0.02, NNZs: 2, Bias: -0.022000, T: 198, Avg. loss: 0.046889\n",
            "Total training time: 0.00 seconds.\n",
            "-- Epoch 23\n",
            "Norm: 0.02, NNZs: 2, Bias: -0.022000, T: 207, Avg. loss: 0.036444\n",
            "Total training time: 0.00 seconds.\n",
            "-- Epoch 24\n",
            "Norm: 0.03, NNZs: 2, Bias: -0.022000, T: 216, Avg. loss: 0.016000\n",
            "Total training time: 0.00 seconds.\n",
            "-- Epoch 25\n",
            "Norm: 0.02, NNZs: 2, Bias: -0.026000, T: 225, Avg. loss: 0.025333\n",
            "Total training time: 0.00 seconds.\n",
            "-- Epoch 26\n",
            "Norm: 0.01, NNZs: 2, Bias: -0.024000, T: 234, Avg. loss: 0.024222\n",
            "Total training time: 0.00 seconds.\n",
            "-- Epoch 27\n",
            "Norm: 0.01, NNZs: 2, Bias: -0.024000, T: 243, Avg. loss: 0.029778\n",
            "Total training time: 0.00 seconds.\n",
            "-- Epoch 28\n",
            "Norm: 0.01, NNZs: 2, Bias: -0.024000, T: 252, Avg. loss: 0.023333\n",
            "Total training time: 0.00 seconds.\n",
            "-- Epoch 29\n",
            "Norm: 0.02, NNZs: 2, Bias: -0.022000, T: 261, Avg. loss: 0.033778\n",
            "Total training time: 0.00 seconds.\n",
            "-- Epoch 30\n",
            "Norm: 0.01, NNZs: 2, Bias: -0.024000, T: 270, Avg. loss: 0.034000\n",
            "Total training time: 0.00 seconds.\n",
            "-- Epoch 31\n",
            "Norm: 0.02, NNZs: 2, Bias: -0.024000, T: 279, Avg. loss: 0.037778\n",
            "Total training time: 0.00 seconds.\n",
            "-- Epoch 32\n",
            "Norm: 0.02, NNZs: 2, Bias: -0.024000, T: 288, Avg. loss: 0.034889\n",
            "Total training time: 0.00 seconds.\n",
            "-- Epoch 33\n",
            "Norm: 0.02, NNZs: 2, Bias: -0.026000, T: 297, Avg. loss: 0.036444\n",
            "Total training time: 0.01 seconds.\n",
            "-- Epoch 34\n",
            "Norm: 0.03, NNZs: 2, Bias: -0.026000, T: 306, Avg. loss: 0.032889\n",
            "Total training time: 0.01 seconds.\n",
            "-- Epoch 35\n",
            "Norm: 0.01, NNZs: 2, Bias: -0.026000, T: 315, Avg. loss: 0.024889\n",
            "Total training time: 0.01 seconds.\n",
            "-- Epoch 36\n",
            "Norm: 0.02, NNZs: 2, Bias: -0.024000, T: 324, Avg. loss: 0.021556\n",
            "Total training time: 0.01 seconds.\n",
            "-- Epoch 37\n",
            "Norm: 0.01, NNZs: 2, Bias: -0.026000, T: 333, Avg. loss: 0.038667\n",
            "Total training time: 0.01 seconds.\n",
            "-- Epoch 38\n",
            "Norm: 0.01, NNZs: 2, Bias: -0.026000, T: 342, Avg. loss: 0.041778\n",
            "Total training time: 0.01 seconds.\n",
            "-- Epoch 39\n",
            "Norm: 0.03, NNZs: 2, Bias: -0.022000, T: 351, Avg. loss: 0.021778\n",
            "Total training time: 0.01 seconds.\n",
            "-- Epoch 40\n",
            "Norm: 0.01, NNZs: 2, Bias: -0.026000, T: 360, Avg. loss: 0.024000\n",
            "Total training time: 0.01 seconds.\n",
            "-- Epoch 41\n",
            "Norm: 0.01, NNZs: 2, Bias: -0.024000, T: 369, Avg. loss: 0.023778\n",
            "Total training time: 0.01 seconds.\n",
            "-- Epoch 42\n",
            "Norm: 0.00, NNZs: 2, Bias: -0.024000, T: 378, Avg. loss: 0.027556\n",
            "Total training time: 0.01 seconds.\n",
            "-- Epoch 43\n",
            "Norm: 0.01, NNZs: 2, Bias: -0.024000, T: 387, Avg. loss: 0.024000\n",
            "Total training time: 0.01 seconds.\n",
            "-- Epoch 44\n",
            "Norm: 0.02, NNZs: 2, Bias: -0.022000, T: 396, Avg. loss: 0.036889\n",
            "Total training time: 0.01 seconds.\n",
            "-- Epoch 45\n",
            "Norm: 0.02, NNZs: 2, Bias: -0.024000, T: 405, Avg. loss: 0.021111\n",
            "Total training time: 0.01 seconds.\n",
            "-- Epoch 46\n",
            "Norm: 0.01, NNZs: 2, Bias: -0.026000, T: 414, Avg. loss: 0.050444\n",
            "Total training time: 0.01 seconds.\n",
            "-- Epoch 47\n",
            "Norm: 0.02, NNZs: 2, Bias: -0.024000, T: 423, Avg. loss: 0.035111\n",
            "Total training time: 0.01 seconds.\n",
            "-- Epoch 48\n",
            "Norm: 0.02, NNZs: 2, Bias: -0.026000, T: 432, Avg. loss: 0.036889\n",
            "Total training time: 0.01 seconds.\n",
            "-- Epoch 49\n",
            "Norm: 0.02, NNZs: 2, Bias: -0.026000, T: 441, Avg. loss: 0.033556\n",
            "Total training time: 0.01 seconds.\n",
            "-- Epoch 50\n",
            "Norm: 0.01, NNZs: 2, Bias: -0.026000, T: 450, Avg. loss: 0.035111\n",
            "Total training time: 0.01 seconds.\n",
            "-- Epoch 51\n",
            "Norm: 0.01, NNZs: 2, Bias: -0.026000, T: 459, Avg. loss: 0.007556\n",
            "Total training time: 0.01 seconds.\n",
            "-- Epoch 52\n",
            "Norm: 0.03, NNZs: 2, Bias: -0.026000, T: 468, Avg. loss: 0.025111\n",
            "Total training time: 0.01 seconds.\n",
            "-- Epoch 53\n",
            "Norm: 0.02, NNZs: 2, Bias: -0.026000, T: 477, Avg. loss: 0.036889\n",
            "Total training time: 0.01 seconds.\n",
            "-- Epoch 54\n",
            "Norm: 0.03, NNZs: 2, Bias: -0.026000, T: 486, Avg. loss: 0.015556\n",
            "Total training time: 0.01 seconds.\n",
            "-- Epoch 55\n",
            "Norm: 0.02, NNZs: 2, Bias: -0.030000, T: 495, Avg. loss: 0.027556\n",
            "Total training time: 0.01 seconds.\n",
            "-- Epoch 56\n",
            "Norm: 0.02, NNZs: 2, Bias: -0.028000, T: 504, Avg. loss: 0.026889\n",
            "Total training time: 0.01 seconds.\n",
            "-- Epoch 57\n",
            "Norm: 0.01, NNZs: 2, Bias: -0.028000, T: 513, Avg. loss: 0.031556\n",
            "Total training time: 0.01 seconds.\n",
            "-- Epoch 58\n",
            "Norm: 0.01, NNZs: 2, Bias: -0.028000, T: 522, Avg. loss: 0.021333\n",
            "Total training time: 0.01 seconds.\n",
            "-- Epoch 59\n",
            "Norm: 0.03, NNZs: 2, Bias: -0.026000, T: 531, Avg. loss: 0.034667\n",
            "Total training time: 0.01 seconds.\n",
            "-- Epoch 60\n",
            "Norm: 0.01, NNZs: 2, Bias: -0.026000, T: 540, Avg. loss: 0.024889\n",
            "Total training time: 0.01 seconds.\n",
            "-- Epoch 61\n",
            "Norm: 0.02, NNZs: 2, Bias: -0.024000, T: 549, Avg. loss: 0.032222\n",
            "Total training time: 0.01 seconds.\n",
            "-- Epoch 62\n",
            "Norm: 0.01, NNZs: 2, Bias: -0.028000, T: 558, Avg. loss: 0.028667\n",
            "Total training time: 0.01 seconds.\n",
            "-- Epoch 63\n",
            "Norm: 0.01, NNZs: 2, Bias: -0.026000, T: 567, Avg. loss: 0.020889\n",
            "Total training time: 0.01 seconds.\n",
            "-- Epoch 64\n",
            "Norm: 0.02, NNZs: 2, Bias: -0.024000, T: 576, Avg. loss: 0.019111\n",
            "Total training time: 0.01 seconds.\n",
            "-- Epoch 65\n",
            "Norm: 0.00, NNZs: 2, Bias: -0.024000, T: 585, Avg. loss: 0.017556\n",
            "Total training time: 0.01 seconds.\n",
            "-- Epoch 66\n",
            "Norm: 0.01, NNZs: 2, Bias: -0.024000, T: 594, Avg. loss: 0.034667\n",
            "Total training time: 0.01 seconds.\n",
            "-- Epoch 67\n",
            "Norm: 0.01, NNZs: 2, Bias: -0.026000, T: 603, Avg. loss: 0.034444\n",
            "Total training time: 0.01 seconds.\n",
            "-- Epoch 68\n",
            "Norm: 0.02, NNZs: 2, Bias: -0.026000, T: 612, Avg. loss: 0.040000\n",
            "Total training time: 0.01 seconds.\n",
            "-- Epoch 69\n",
            "Norm: 0.02, NNZs: 2, Bias: -0.024000, T: 621, Avg. loss: 0.010444\n",
            "Total training time: 0.01 seconds.\n",
            "-- Epoch 70\n",
            "Norm: 0.01, NNZs: 2, Bias: -0.026000, T: 630, Avg. loss: 0.030667\n",
            "Total training time: 0.01 seconds.\n",
            "-- Epoch 71\n",
            "Norm: 0.02, NNZs: 2, Bias: -0.024000, T: 639, Avg. loss: 0.032667\n",
            "Total training time: 0.01 seconds.\n",
            "-- Epoch 72\n",
            "Norm: 0.01, NNZs: 2, Bias: -0.026000, T: 648, Avg. loss: 0.026444\n",
            "Total training time: 0.01 seconds.\n",
            "-- Epoch 73\n",
            "Norm: 0.01, NNZs: 2, Bias: -0.026000, T: 657, Avg. loss: 0.024444\n",
            "Total training time: 0.01 seconds.\n",
            "-- Epoch 74\n",
            "Norm: 0.02, NNZs: 2, Bias: -0.024000, T: 666, Avg. loss: 0.021556\n",
            "Total training time: 0.01 seconds.\n",
            "-- Epoch 75\n",
            "Norm: 0.01, NNZs: 2, Bias: -0.024000, T: 675, Avg. loss: 0.020444\n",
            "Total training time: 0.01 seconds.\n",
            "-- Epoch 76\n",
            "Norm: 0.01, NNZs: 2, Bias: -0.022000, T: 684, Avg. loss: 0.033111\n",
            "Total training time: 0.01 seconds.\n",
            "-- Epoch 77\n",
            "Norm: 0.02, NNZs: 2, Bias: -0.024000, T: 693, Avg. loss: 0.032222\n",
            "Total training time: 0.01 seconds.\n",
            "-- Epoch 78\n",
            "Norm: 0.02, NNZs: 2, Bias: -0.024000, T: 702, Avg. loss: 0.039111\n",
            "Total training time: 0.01 seconds.\n",
            "-- Epoch 79\n",
            "Norm: 0.02, NNZs: 2, Bias: -0.026000, T: 711, Avg. loss: 0.041778\n",
            "Total training time: 0.01 seconds.\n",
            "-- Epoch 80\n",
            "Norm: 0.01, NNZs: 2, Bias: -0.026000, T: 720, Avg. loss: 0.034222\n",
            "Total training time: 0.01 seconds.\n",
            "-- Epoch 81\n",
            "Norm: 0.01, NNZs: 2, Bias: -0.024000, T: 729, Avg. loss: 0.006444\n",
            "Total training time: 0.01 seconds.\n",
            "-- Epoch 82\n",
            "Norm: 0.01, NNZs: 2, Bias: -0.024000, T: 738, Avg. loss: 0.037333\n",
            "Total training time: 0.01 seconds.\n",
            "-- Epoch 83\n",
            "Norm: 0.02, NNZs: 2, Bias: -0.024000, T: 747, Avg. loss: 0.040000\n",
            "Total training time: 0.01 seconds.\n",
            "-- Epoch 84\n",
            "Norm: 0.02, NNZs: 2, Bias: -0.022000, T: 756, Avg. loss: 0.010222\n",
            "Total training time: 0.01 seconds.\n",
            "-- Epoch 85\n",
            "Norm: 0.02, NNZs: 2, Bias: -0.026000, T: 765, Avg. loss: 0.030889\n",
            "Total training time: 0.01 seconds.\n",
            "-- Epoch 86\n",
            "Norm: 0.02, NNZs: 2, Bias: -0.024000, T: 774, Avg. loss: 0.041556\n",
            "Total training time: 0.01 seconds.\n",
            "-- Epoch 87\n",
            "Norm: 0.01, NNZs: 2, Bias: -0.024000, T: 783, Avg. loss: 0.033778\n",
            "Total training time: 0.01 seconds.\n",
            "-- Epoch 88\n",
            "Norm: 0.01, NNZs: 2, Bias: -0.026000, T: 792, Avg. loss: 0.023111\n",
            "Total training time: 0.01 seconds.\n",
            "-- Epoch 89\n",
            "Norm: 0.01, NNZs: 2, Bias: -0.024000, T: 801, Avg. loss: 0.022000\n",
            "Total training time: 0.01 seconds.\n",
            "-- Epoch 90\n",
            "Norm: 0.02, NNZs: 2, Bias: -0.022000, T: 810, Avg. loss: 0.017778\n",
            "Total training time: 0.01 seconds.\n",
            "-- Epoch 91\n",
            "Norm: 0.00, NNZs: 2, Bias: -0.024000, T: 819, Avg. loss: 0.054667\n",
            "Total training time: 0.01 seconds.\n",
            "-- Epoch 92\n",
            "Norm: 0.01, NNZs: 2, Bias: -0.024000, T: 828, Avg. loss: 0.037333\n",
            "Total training time: 0.01 seconds.\n",
            "-- Epoch 93\n",
            "Norm: 0.01, NNZs: 2, Bias: -0.022000, T: 837, Avg. loss: 0.020889\n",
            "Total training time: 0.01 seconds.\n",
            "-- Epoch 94\n",
            "Norm: 0.02, NNZs: 2, Bias: -0.022000, T: 846, Avg. loss: 0.039778\n",
            "Total training time: 0.01 seconds.\n",
            "-- Epoch 95\n",
            "Norm: 0.01, NNZs: 2, Bias: -0.022000, T: 855, Avg. loss: 0.032222\n",
            "Total training time: 0.01 seconds.\n",
            "-- Epoch 96\n",
            "Norm: 0.01, NNZs: 2, Bias: -0.020000, T: 864, Avg. loss: 0.030889\n",
            "Total training time: 0.01 seconds.\n",
            "-- Epoch 97\n",
            "Norm: 0.02, NNZs: 2, Bias: -0.022000, T: 873, Avg. loss: 0.034667\n",
            "Total training time: 0.01 seconds.\n",
            "-- Epoch 98\n",
            "Norm: 0.02, NNZs: 2, Bias: -0.024000, T: 882, Avg. loss: 0.041111\n",
            "Total training time: 0.01 seconds.\n",
            "-- Epoch 99\n",
            "Norm: 0.02, NNZs: 2, Bias: -0.024000, T: 891, Avg. loss: 0.011333\n",
            "Total training time: 0.01 seconds.\n",
            "-- Epoch 100\n",
            "Norm: 0.01, NNZs: 2, Bias: -0.026000, T: 900, Avg. loss: 0.029556\n",
            "Total training time: 0.01 seconds.\n"
          ],
          "name": "stdout"
        },
        {
          "output_type": "stream",
          "text": [
            "/usr/local/lib/python3.6/dist-packages/sklearn/linear_model/stochastic_gradient.py:152: DeprecationWarning: n_iter parameter is deprecated in 0.19 and will be removed in 0.21. Use max_iter and tol instead.\n",
            "  DeprecationWarning)\n"
          ],
          "name": "stderr"
        },
        {
          "output_type": "execute_result",
          "data": {
            "text/plain": [
              "Perceptron(alpha=0.0001, class_weight=None, early_stopping=False, eta0=0.002,\n",
              "      fit_intercept=True, max_iter=None, n_iter=100, n_iter_no_change=5,\n",
              "      n_jobs=None, penalty=None, random_state=None, shuffle=True, tol=None,\n",
              "      validation_fraction=0.1, verbose=1, warm_start=False)"
            ]
          },
          "metadata": {
            "tags": []
          },
          "execution_count": 10
        }
      ]
    },
    {
      "metadata": {
        "id": "oJj6hVk2E9tM",
        "colab_type": "code",
        "colab": {
          "base_uri": "https://localhost:8080/",
          "height": 294
        },
        "outputId": "17e55fa9-945e-4531-d527-ede7ef9b5cee"
      },
      "cell_type": "code",
      "source": [
        "plt.scatter(d[0], d[1], c = colormap[t], s =40)\n",
        "\n",
        "# calc decision boundary\n",
        "ymin, ymax = plt.ylim()\n",
        "w = net.coef_[0]\n",
        "a = -w[0]/w[1]\n",
        "xx = np.linspace(ymin, ymax)\n",
        "yy = a*xx-(net.intercept_[0] / w[1])\n",
        "\n",
        "plt.plot(yy, xx, 'k-')"
      ],
      "execution_count": 11,
      "outputs": [
        {
          "output_type": "execute_result",
          "data": {
            "text/plain": [
              "[<matplotlib.lines.Line2D at 0x7f19d952eac8>]"
            ]
          },
          "metadata": {
            "tags": []
          },
          "execution_count": 11
        },
        {
          "output_type": "display_data",
          "data": {
            "image/png": "[encoded data removed]",
            "text/plain": [
              "<Figure size 432x288 with 1 Axes>"
            ]
          },
          "metadata": {
            "tags": []
          }
        }
      ]
    },
    {
      "metadata": {
        "id": "6NEdO94YE9vt",
        "colab_type": "code",
        "colab": {
          "base_uri": "https://localhost:8080/",
          "height": 350
        },
        "outputId": "f6ee1778-7a58-4cc7-e416-d54603d16f24"
      },
      "cell_type": "code",
      "source": [
        "nX = np.random.random_integers(10, size=(2,50))\n",
        "\n",
        "\n",
        "# Rotate it the same as the previous data\n",
        "nX90 = np.rot90(nX)\n",
        "nX90 = np.rot90(nX90)\n",
        "nX90 = np.rot90(nX90)\n",
        "\n",
        "prediction = net.predict(nX90)\n",
        "\n",
        "# Plot the nX random values AND the prediction as a color\n",
        "plt.scatter(nX[0],nX[1], c=colormap[prediction],s=40)\n",
        "\n",
        "# Now plot the hyperplane\n",
        "ymin, ymax = plt.ylim()\n",
        "\n",
        "# Calc\n",
        "w = net.coef_[0]\n",
        "a = -w[0] / w[1]\n",
        "xx = np.linspace(ymin, ymax)\n",
        "yy = a * xx - (net.intercept_[0]) / w[1]\n",
        "plt.plot(yy,xx, 'k-')"
      ],
      "execution_count": 14,
      "outputs": [
        {
          "output_type": "stream",
          "text": [
            "/usr/local/lib/python3.6/dist-packages/ipykernel_launcher.py:1: DeprecationWarning: This function is deprecated. Please call randint(1, 10 + 1) instead\n",
            "  \"\"\"Entry point for launching an IPython kernel.\n"
          ],
          "name": "stderr"
        },
        {
          "output_type": "execute_result",
          "data": {
            "text/plain": [
              "[<matplotlib.lines.Line2D at 0x7f19d9373ef0>]"
            ]
          },
          "metadata": {
            "tags": []
          },
          "execution_count": 14
        },
        {
          "output_type": "display_data",
          "data": {
            "image/png": "[encoded data removed]",
            "text/plain": [
              "<Figure size 432x288 with 1 Axes>"
            ]
          },
          "metadata": {
            "tags": []
          }
        }
      ]
    },
    {
      "metadata": {
        "id": "pqhx9TguE9yP",
        "colab_type": "code",
        "colab": {}
      },
      "cell_type": "code",
      "source": [
        "from sklearn import datasets\n",
        "\n",
        "data = datasets.load_diabetes(return_X_y=False)"
      ],
      "execution_count": 0,
      "outputs": []
    },
    {
      "metadata": {
        "id": "hJlGspTrE94d",
        "colab_type": "code",
        "colab": {
          "base_uri": "https://localhost:8080/",
          "height": 240
        },
        "outputId": "c8de3729-13cc-4d44-903f-2a0127333ce9"
      },
      "cell_type": "code",
      "source": [
        "data.data"
      ],
      "execution_count": 22,
      "outputs": [
        {
          "output_type": "execute_result",
          "data": {
            "text/plain": [
              "array([[ 0.03807591,  0.05068012,  0.06169621, ..., -0.00259226,\n",
              "         0.01990842, -0.01764613],\n",
              "       [-0.00188202, -0.04464164, -0.05147406, ..., -0.03949338,\n",
              "        -0.06832974, -0.09220405],\n",
              "       [ 0.08529891,  0.05068012,  0.04445121, ..., -0.00259226,\n",
              "         0.00286377, -0.02593034],\n",
              "       ...,\n",
              "       [ 0.04170844,  0.05068012, -0.01590626, ..., -0.01107952,\n",
              "        -0.04687948,  0.01549073],\n",
              "       [-0.04547248, -0.04464164,  0.03906215, ...,  0.02655962,\n",
              "         0.04452837, -0.02593034],\n",
              "       [-0.04547248, -0.04464164, -0.0730303 , ..., -0.03949338,\n",
              "        -0.00421986,  0.00306441]])"
            ]
          },
          "metadata": {
            "tags": []
          },
          "execution_count": 22
        }
      ]
    },
    {
      "metadata": {
        "id": "4TMrFyAINWIz",
        "colab_type": "code",
        "colab": {
          "base_uri": "https://localhost:8080/",
          "height": 728
        },
        "outputId": "c197b867-f6c3-4a1f-a938-3dfb8e889b44"
      },
      "cell_type": "code",
      "source": [
        "data.target"
      ],
      "execution_count": 23,
      "outputs": [
        {
          "output_type": "execute_result",
          "data": {
            "text/plain": [
              "array([151.,  75., 141., 206., 135.,  97., 138.,  63., 110., 310., 101.,\n",
              "        69., 179., 185., 118., 171., 166., 144.,  97., 168.,  68.,  49.,\n",
              "        68., 245., 184., 202., 137.,  85., 131., 283., 129.,  59., 341.,\n",
              "        87.,  65., 102., 265., 276., 252.,  90., 100.,  55.,  61.,  92.,\n",
              "       259.,  53., 190., 142.,  75., 142., 155., 225.,  59., 104., 182.,\n",
              "       128.,  52.,  37., 170., 170.,  61., 144.,  52., 128.,  71., 163.,\n",
              "       150.,  97., 160., 178.,  48., 270., 202., 111.,  85.,  42., 170.,\n",
              "       200., 252., 113., 143.,  51.,  52., 210.,  65., 141.,  55., 134.,\n",
              "        42., 111.,  98., 164.,  48.,  96.,  90., 162., 150., 279.,  92.,\n",
              "        83., 128., 102., 302., 198.,  95.,  53., 134., 144., 232.,  81.,\n",
              "       104.,  59., 246., 297., 258., 229., 275., 281., 179., 200., 200.,\n",
              "       173., 180.,  84., 121., 161.,  99., 109., 115., 268., 274., 158.,\n",
              "       107.,  83., 103., 272.,  85., 280., 336., 281., 118., 317., 235.,\n",
              "        60., 174., 259., 178., 128.,  96., 126., 288.,  88., 292.,  71.,\n",
              "       197., 186.,  25.,  84.,  96., 195.,  53., 217., 172., 131., 214.,\n",
              "        59.,  70., 220., 268., 152.,  47.,  74., 295., 101., 151., 127.,\n",
              "       237., 225.,  81., 151., 107.,  64., 138., 185., 265., 101., 137.,\n",
              "       143., 141.,  79., 292., 178.,  91., 116.,  86., 122.,  72., 129.,\n",
              "       142.,  90., 158.,  39., 196., 222., 277.,  99., 196., 202., 155.,\n",
              "        77., 191.,  70.,  73.,  49.,  65., 263., 248., 296., 214., 185.,\n",
              "        78.,  93., 252., 150.,  77., 208.,  77., 108., 160.,  53., 220.,\n",
              "       154., 259.,  90., 246., 124.,  67.,  72., 257., 262., 275., 177.,\n",
              "        71.,  47., 187., 125.,  78.,  51., 258., 215., 303., 243.,  91.,\n",
              "       150., 310., 153., 346.,  63.,  89.,  50.,  39., 103., 308., 116.,\n",
              "       145.,  74.,  45., 115., 264.,  87., 202., 127., 182., 241.,  66.,\n",
              "        94., 283.,  64., 102., 200., 265.,  94., 230., 181., 156., 233.,\n",
              "        60., 219.,  80.,  68., 332., 248.,  84., 200.,  55.,  85.,  89.,\n",
              "        31., 129.,  83., 275.,  65., 198., 236., 253., 124.,  44., 172.,\n",
              "       114., 142., 109., 180., 144., 163., 147.,  97., 220., 190., 109.,\n",
              "       191., 122., 230., 242., 248., 249., 192., 131., 237.,  78., 135.,\n",
              "       244., 199., 270., 164.,  72.,  96., 306.,  91., 214.,  95., 216.,\n",
              "       263., 178., 113., 200., 139., 139.,  88., 148.,  88., 243.,  71.,\n",
              "        77., 109., 272.,  60.,  54., 221.,  90., 311., 281., 182., 321.,\n",
              "        58., 262., 206., 233., 242., 123., 167.,  63., 197.,  71., 168.,\n",
              "       140., 217., 121., 235., 245.,  40.,  52., 104., 132.,  88.,  69.,\n",
              "       219.,  72., 201., 110.,  51., 277.,  63., 118.,  69., 273., 258.,\n",
              "        43., 198., 242., 232., 175.,  93., 168., 275., 293., 281.,  72.,\n",
              "       140., 189., 181., 209., 136., 261., 113., 131., 174., 257.,  55.,\n",
              "        84.,  42., 146., 212., 233.,  91., 111., 152., 120.,  67., 310.,\n",
              "        94., 183.,  66., 173.,  72.,  49.,  64.,  48., 178., 104., 132.,\n",
              "       220.,  57.])"
            ]
          },
          "metadata": {
            "tags": []
          },
          "execution_count": 23
        }
      ]
    },
    {
      "metadata": {
        "id": "AAIS4SflNgGN",
        "colab_type": "code",
        "colab": {}
      },
      "cell_type": "code",
      "source": [
        "from sklearn.model_selection import train_test_split\n",
        "\n",
        "X_train, X_test, y_train, y_test = train_test_split(data.data, data.target, test_size=0.30, random_state=42)"
      ],
      "execution_count": 0,
      "outputs": []
    },
    {
      "metadata": {
        "id": "0Em2_DskPMSu",
        "colab_type": "code",
        "colab": {
          "base_uri": "https://localhost:8080/",
          "height": 87
        },
        "outputId": "5fb2e4a2-940a-42b6-976e-200af9d13cbe"
      },
      "cell_type": "code",
      "source": [
        "print(len(X_train))\n",
        "print(len(X_test))\n",
        "print(len(y_train))\n",
        "print(len(y_test))"
      ],
      "execution_count": 27,
      "outputs": [
        {
          "output_type": "stream",
          "text": [
            "309\n",
            "133\n",
            "309\n",
            "133\n"
          ],
          "name": "stdout"
        }
      ]
    },
    {
      "metadata": {
        "id": "_DmL4U_RPMVv",
        "colab_type": "code",
        "colab": {}
      },
      "cell_type": "code",
      "source": [
        "from sklearn.neural_network import MLPRegressor\n",
        "\n",
        "mynet = MLPRegressor(hidden_layer_sizes =(5,6,7,8,2), max_iter = 500, activation = 'relu', learning_rate_init = 0.01, verbose = 1)\n",
        "\n"
      ],
      "execution_count": 0,
      "outputs": []
    },
    {
      "metadata": {
        "id": "ZfRqPSvzPMYu",
        "colab_type": "code",
        "colab": {
          "base_uri": "https://localhost:8080/",
          "height": 139
        },
        "outputId": "0f6613d3-94f4-45f6-e85a-8b5be40aa9ea"
      },
      "cell_type": "code",
      "source": [
        "mynet"
      ],
      "execution_count": 29,
      "outputs": [
        {
          "output_type": "execute_result",
          "data": {
            "text/plain": [
              "MLPRegressor(activation='relu', alpha=0.0001, batch_size='auto', beta_1=0.9,\n",
              "       beta_2=0.999, early_stopping=False, epsilon=1e-08,\n",
              "       hidden_layer_sizes=(5, 6, 7, 8, 2), learning_rate='constant',\n",
              "       learning_rate_init=0.01, max_iter=200, momentum=0.9,\n",
              "       n_iter_no_change=10, nesterovs_momentum=True, power_t=0.5,\n",
              "       random_state=None, shuffle=True, solver='sgd', tol=0.0001,\n",
              "       validation_fraction=0.1, verbose=1, warm_start=False)"
            ]
          },
          "metadata": {
            "tags": []
          },
          "execution_count": 29
        }
      ]
    },
    {
      "metadata": {
        "id": "z4t3beVBPMbE",
        "colab_type": "code",
        "colab": {
          "base_uri": "https://localhost:8080/",
          "height": 8860
        },
        "outputId": "2fc71892-7f25-4f8b-c470-d20aba722a2e"
      },
      "cell_type": "code",
      "source": [
        "mynet.fit(X_train, y_train)"
      ],
      "execution_count": 34,
      "outputs": [
        {
          "output_type": "stream",
          "text": [
            "Iteration 1, loss = 15016.59850626\n",
            "Iteration 2, loss = 14984.94241915\n",
            "Iteration 3, loss = 14968.11376710\n",
            "Iteration 4, loss = 14967.10789689\n",
            "Iteration 5, loss = 14961.84416298\n",
            "Iteration 6, loss = 14958.40046461\n",
            "Iteration 7, loss = 14955.28739450\n",
            "Iteration 8, loss = 14952.20687683\n",
            "Iteration 9, loss = 14949.13635142\n",
            "Iteration 10, loss = 14946.01871770\n",
            "Iteration 11, loss = 14942.98346883\n",
            "Iteration 12, loss = 14939.90982940\n",
            "Iteration 13, loss = 14936.80010284\n",
            "Iteration 14, loss = 14933.75468936\n",
            "Iteration 15, loss = 14930.64096611\n",
            "Iteration 16, loss = 14927.57840750\n",
            "Iteration 17, loss = 14924.46538971\n",
            "Iteration 18, loss = 14921.41539314\n",
            "Iteration 19, loss = 14918.35480022\n",
            "Iteration 20, loss = 14915.27748910\n",
            "Iteration 21, loss = 14912.15137855\n",
            "Iteration 22, loss = 14909.09649466\n",
            "Iteration 23, loss = 14905.98862914\n",
            "Iteration 24, loss = 14902.96457921\n",
            "Iteration 25, loss = 14899.86724362\n",
            "Iteration 26, loss = 14896.78925170\n",
            "Iteration 27, loss = 14893.72743583\n",
            "Iteration 28, loss = 14890.60863534\n",
            "Iteration 29, loss = 14887.56159901\n",
            "Iteration 30, loss = 14884.49143292\n",
            "Iteration 31, loss = 14881.43726828\n",
            "Iteration 32, loss = 14878.32031198\n",
            "Iteration 33, loss = 14875.31794682\n",
            "Iteration 34, loss = 14872.23723560\n",
            "Iteration 35, loss = 14869.16915395\n",
            "Iteration 36, loss = 14866.07700532\n",
            "Iteration 37, loss = 14863.04116772\n",
            "Iteration 38, loss = 14859.97649943\n",
            "Iteration 39, loss = 14856.94962989\n",
            "Iteration 40, loss = 14853.86728277\n",
            "Iteration 41, loss = 14850.85470864\n",
            "Iteration 42, loss = 14847.79873984\n",
            "Iteration 43, loss = 14844.75811592\n",
            "Iteration 44, loss = 14841.67235361\n",
            "Iteration 45, loss = 14838.66880020\n",
            "Iteration 46, loss = 14835.59768302\n",
            "Iteration 47, loss = 14832.54193239\n",
            "Iteration 48, loss = 14829.52208645\n",
            "Iteration 49, loss = 14826.45745572\n",
            "Iteration 50, loss = 14823.41831872\n",
            "Iteration 51, loss = 14820.35879009\n",
            "Iteration 52, loss = 14817.30354184\n",
            "Iteration 53, loss = 14814.25939022\n",
            "Iteration 54, loss = 14811.21510299\n",
            "Iteration 55, loss = 14808.12728381\n",
            "Iteration 56, loss = 14805.09234571\n",
            "Iteration 57, loss = 14802.03941528\n",
            "Iteration 58, loss = 14798.98437912\n",
            "Iteration 59, loss = 14795.96273532\n",
            "Iteration 60, loss = 14792.88285040\n",
            "Iteration 61, loss = 14789.83804805\n",
            "Iteration 62, loss = 14786.81458322\n",
            "Iteration 63, loss = 14783.75719487\n",
            "Iteration 64, loss = 14780.68146662\n",
            "Iteration 65, loss = 14777.66513626\n",
            "Iteration 66, loss = 14774.60504761\n",
            "Iteration 67, loss = 14771.55959340\n",
            "Iteration 68, loss = 14768.54542952\n",
            "Iteration 69, loss = 14765.50643602\n",
            "Iteration 70, loss = 14762.40087245\n",
            "Iteration 71, loss = 14759.37152285\n",
            "Iteration 72, loss = 14756.37727794\n",
            "Iteration 73, loss = 14753.30079688\n",
            "Iteration 74, loss = 14750.24640117\n",
            "Iteration 75, loss = 14747.20205066\n",
            "Iteration 76, loss = 14744.17636942\n",
            "Iteration 77, loss = 14741.17058354\n",
            "Iteration 78, loss = 14738.05636364\n",
            "Iteration 79, loss = 14735.04787942\n",
            "Iteration 80, loss = 14732.01872727\n",
            "Iteration 81, loss = 14728.97222433\n",
            "Iteration 82, loss = 14725.90068200\n",
            "Iteration 83, loss = 14722.88705489\n",
            "Iteration 84, loss = 14719.83851232\n",
            "Iteration 85, loss = 14716.78682775\n",
            "Iteration 86, loss = 14713.73753584\n",
            "Iteration 87, loss = 14710.72275677\n",
            "Iteration 88, loss = 14707.65734408\n",
            "Iteration 89, loss = 14704.62972182\n",
            "Iteration 90, loss = 14701.58919956\n",
            "Iteration 91, loss = 14698.46713495\n",
            "Iteration 92, loss = 14695.54471713\n",
            "Iteration 93, loss = 14692.47107076\n",
            "Iteration 94, loss = 14689.43411362\n",
            "Iteration 95, loss = 14686.39389899\n",
            "Iteration 96, loss = 14683.36621466\n",
            "Iteration 97, loss = 14680.35606208\n",
            "Iteration 98, loss = 14677.31025123\n",
            "Iteration 99, loss = 14674.32174084\n",
            "Iteration 100, loss = 14671.27720448\n",
            "Iteration 101, loss = 14668.21837992\n",
            "Iteration 102, loss = 14665.24307717\n",
            "Iteration 103, loss = 14662.23325882\n",
            "Iteration 104, loss = 14659.20743298\n",
            "Iteration 105, loss = 14656.14126944\n",
            "Iteration 106, loss = 14653.11084907\n",
            "Iteration 107, loss = 14650.10793178\n",
            "Iteration 108, loss = 14647.14294682\n",
            "Iteration 109, loss = 14644.04728574\n",
            "Iteration 110, loss = 14641.04212951\n",
            "Iteration 111, loss = 14638.02866579\n",
            "Iteration 112, loss = 14634.99035327\n",
            "Iteration 113, loss = 14631.96197099\n",
            "Iteration 114, loss = 14628.93956316\n",
            "Iteration 115, loss = 14625.92925837\n",
            "Iteration 116, loss = 14622.90389989\n",
            "Iteration 117, loss = 14619.88486600\n",
            "Iteration 118, loss = 14616.87073634\n",
            "Iteration 119, loss = 14613.79960316\n",
            "Iteration 120, loss = 14610.82600421\n",
            "Iteration 121, loss = 14607.79146567\n",
            "Iteration 122, loss = 14604.79116279\n",
            "Iteration 123, loss = 14601.74490707\n",
            "Iteration 124, loss = 14598.74190529\n",
            "Iteration 125, loss = 14595.74442811\n",
            "Iteration 126, loss = 14592.69898917\n",
            "Iteration 127, loss = 14589.74351668\n",
            "Iteration 128, loss = 14586.69258706\n",
            "Iteration 129, loss = 14583.69478340\n",
            "Iteration 130, loss = 14580.74297262\n",
            "Iteration 131, loss = 14577.69548203\n",
            "Iteration 132, loss = 14574.72666689\n",
            "Iteration 133, loss = 14571.73238076\n",
            "Iteration 134, loss = 14568.74705966\n",
            "Iteration 135, loss = 14565.73440890\n",
            "Iteration 136, loss = 14562.77809872\n",
            "Iteration 137, loss = 14559.77347357\n",
            "Iteration 138, loss = 14556.75193307\n",
            "Iteration 139, loss = 14553.82439762\n",
            "Iteration 140, loss = 14550.80752425\n",
            "Iteration 141, loss = 14547.80644222\n",
            "Iteration 142, loss = 14544.79204265\n",
            "Iteration 143, loss = 14541.80918524\n",
            "Iteration 144, loss = 14538.80929363\n",
            "Iteration 145, loss = 14535.81977134\n",
            "Iteration 146, loss = 14532.83070779\n",
            "Iteration 147, loss = 14529.83638227\n",
            "Iteration 148, loss = 14526.82243763\n",
            "Iteration 149, loss = 14523.79796373\n",
            "Iteration 150, loss = 14520.84435980\n",
            "Iteration 151, loss = 14517.83141726\n",
            "Iteration 152, loss = 14514.85235467\n",
            "Iteration 153, loss = 14511.86416107\n",
            "Iteration 154, loss = 14508.84993811\n",
            "Iteration 155, loss = 14505.84515409\n",
            "Iteration 156, loss = 14502.87977653\n",
            "Iteration 157, loss = 14499.87916756\n",
            "Iteration 158, loss = 14496.86783783\n",
            "Iteration 159, loss = 14493.89073517\n",
            "Iteration 160, loss = 14490.93061483\n",
            "Iteration 161, loss = 14487.89961042\n",
            "Iteration 162, loss = 14484.92766363\n",
            "Iteration 163, loss = 14481.89768814\n",
            "Iteration 164, loss = 14478.92520784\n",
            "Iteration 165, loss = 14475.95036840\n",
            "Iteration 166, loss = 14472.95363229\n",
            "Iteration 167, loss = 14469.93891215\n",
            "Iteration 168, loss = 14466.98850796\n",
            "Iteration 169, loss = 14463.95895712\n",
            "Iteration 170, loss = 14460.95798434\n",
            "Iteration 171, loss = 14457.97222016\n",
            "Iteration 172, loss = 14455.00391138\n",
            "Iteration 173, loss = 14451.99085349\n",
            "Iteration 174, loss = 14449.00410608\n",
            "Iteration 175, loss = 14445.99745935\n",
            "Iteration 176, loss = 14443.02958317\n",
            "Iteration 177, loss = 14440.04076735\n",
            "Iteration 178, loss = 14437.05911004\n",
            "Iteration 179, loss = 14434.02842279\n",
            "Iteration 180, loss = 14431.10098290\n",
            "Iteration 181, loss = 14428.13420415\n",
            "Iteration 182, loss = 14425.13403138\n",
            "Iteration 183, loss = 14422.15174010\n",
            "Iteration 184, loss = 14419.17319758\n",
            "Iteration 185, loss = 14416.23335815\n",
            "Iteration 186, loss = 14413.23305186\n",
            "Iteration 187, loss = 14410.27767007\n",
            "Iteration 188, loss = 14407.27107139\n",
            "Iteration 189, loss = 14404.33702489\n",
            "Iteration 190, loss = 14401.31447926\n",
            "Iteration 191, loss = 14398.35559937\n",
            "Iteration 192, loss = 14395.39683878\n",
            "Iteration 193, loss = 14392.41933452\n",
            "Iteration 194, loss = 14389.40879201\n",
            "Iteration 195, loss = 14386.44782486\n",
            "Iteration 196, loss = 14383.44055915\n",
            "Iteration 197, loss = 14380.49596274\n",
            "Iteration 198, loss = 14377.51001131\n",
            "Iteration 199, loss = 14374.53671637\n",
            "Iteration 200, loss = 14371.55391735\n",
            "Iteration 201, loss = 14368.57562862\n",
            "Iteration 202, loss = 14365.59672973\n",
            "Iteration 203, loss = 14362.68131713\n",
            "Iteration 204, loss = 14359.68551883\n",
            "Iteration 205, loss = 14356.70856084\n",
            "Iteration 206, loss = 14353.75031499\n",
            "Iteration 207, loss = 14350.76318668\n",
            "Iteration 208, loss = 14347.82391165\n",
            "Iteration 209, loss = 14344.90423374\n",
            "Iteration 210, loss = 14341.91587720\n",
            "Iteration 211, loss = 14338.94022276\n",
            "Iteration 212, loss = 14335.98073297\n",
            "Iteration 213, loss = 14333.04883816\n",
            "Iteration 214, loss = 14330.09961277\n",
            "Iteration 215, loss = 14327.08329560\n",
            "Iteration 216, loss = 14324.18061685\n",
            "Iteration 217, loss = 14321.17616031\n",
            "Iteration 218, loss = 14318.21836905\n",
            "Iteration 219, loss = 14315.27753973\n",
            "Iteration 220, loss = 14312.30109602\n",
            "Iteration 221, loss = 14309.31342489\n",
            "Iteration 222, loss = 14306.39240960\n",
            "Iteration 223, loss = 14303.41369737\n",
            "Iteration 224, loss = 14300.45122223\n",
            "Iteration 225, loss = 14297.46897558\n",
            "Iteration 226, loss = 14294.52316371\n",
            "Iteration 227, loss = 14291.58401018\n",
            "Iteration 228, loss = 14288.63391328\n",
            "Iteration 229, loss = 14285.65268885\n",
            "Iteration 230, loss = 14282.71674661\n",
            "Iteration 231, loss = 14279.79142799\n",
            "Iteration 232, loss = 14276.81983347\n",
            "Iteration 233, loss = 14273.86483149\n",
            "Iteration 234, loss = 14270.92507463\n",
            "Iteration 235, loss = 14267.95377240\n",
            "Iteration 236, loss = 14265.03875256\n",
            "Iteration 237, loss = 14262.04422773\n",
            "Iteration 238, loss = 14259.10758102\n",
            "Iteration 239, loss = 14256.19334273\n",
            "Iteration 240, loss = 14253.22247164\n",
            "Iteration 241, loss = 14250.24645634\n",
            "Iteration 242, loss = 14247.26082223\n",
            "Iteration 243, loss = 14244.35089164\n",
            "Iteration 244, loss = 14241.38680283\n",
            "Iteration 245, loss = 14238.47089582\n",
            "Iteration 246, loss = 14235.51085665\n",
            "Iteration 247, loss = 14232.57920752\n",
            "Iteration 248, loss = 14229.61427040\n",
            "Iteration 249, loss = 14226.67256176\n",
            "Iteration 250, loss = 14223.72102575\n",
            "Iteration 251, loss = 14220.82442568\n",
            "Iteration 252, loss = 14217.86612440\n",
            "Iteration 253, loss = 14214.89791692\n",
            "Iteration 254, loss = 14211.98837043\n",
            "Iteration 255, loss = 14209.03230284\n",
            "Iteration 256, loss = 14206.10192269\n",
            "Iteration 257, loss = 14203.17602119\n",
            "Iteration 258, loss = 14200.19797811\n",
            "Iteration 259, loss = 14197.24622708\n",
            "Iteration 260, loss = 14194.29774369\n",
            "Iteration 261, loss = 14191.35682465\n",
            "Iteration 262, loss = 14188.40037744\n",
            "Iteration 263, loss = 14185.47855703\n",
            "Iteration 264, loss = 14182.50248364\n",
            "Iteration 265, loss = 14179.58061792\n",
            "Iteration 266, loss = 14176.60531603\n",
            "Iteration 267, loss = 14173.68816385\n",
            "Iteration 268, loss = 14170.71347684\n",
            "Iteration 269, loss = 14167.80252520\n",
            "Iteration 270, loss = 14164.85980300\n",
            "Iteration 271, loss = 14161.91510951\n",
            "Iteration 272, loss = 14158.99314908\n",
            "Iteration 273, loss = 14156.05463427\n",
            "Iteration 274, loss = 14153.13242843\n",
            "Iteration 275, loss = 14150.19259965\n",
            "Iteration 276, loss = 14147.26847666\n",
            "Iteration 277, loss = 14144.32126079\n",
            "Iteration 278, loss = 14141.43277293\n",
            "Iteration 279, loss = 14138.48440201\n",
            "Iteration 280, loss = 14135.57152878\n",
            "Iteration 281, loss = 14132.65729179\n",
            "Iteration 282, loss = 14129.70535721\n",
            "Iteration 283, loss = 14126.78583560\n",
            "Iteration 284, loss = 14123.84808392\n",
            "Iteration 285, loss = 14120.93645590\n",
            "Iteration 286, loss = 14118.01543838\n",
            "Iteration 287, loss = 14115.08839766\n",
            "Iteration 288, loss = 14112.14482480\n",
            "Iteration 289, loss = 14109.20852550\n",
            "Iteration 290, loss = 14106.26758329\n",
            "Iteration 291, loss = 14103.32960748\n",
            "Iteration 292, loss = 14100.43227514\n",
            "Iteration 293, loss = 14097.45954194\n",
            "Iteration 294, loss = 14094.57475302\n",
            "Iteration 295, loss = 14091.59505963\n",
            "Iteration 296, loss = 14088.66925122\n",
            "Iteration 297, loss = 14085.76116920\n",
            "Iteration 298, loss = 14082.83456797\n",
            "Iteration 299, loss = 14079.92879687\n",
            "Iteration 300, loss = 14076.99463187\n",
            "Iteration 301, loss = 14074.05471414\n",
            "Iteration 302, loss = 14071.17475128\n",
            "Iteration 303, loss = 14068.27631036\n",
            "Iteration 304, loss = 14065.33540204\n",
            "Iteration 305, loss = 14062.44167489\n",
            "Iteration 306, loss = 14059.55249835\n",
            "Iteration 307, loss = 14056.64292000\n",
            "Iteration 308, loss = 14053.70472397\n",
            "Iteration 309, loss = 14050.84805354\n",
            "Iteration 310, loss = 14047.90157691\n",
            "Iteration 311, loss = 14045.05824850\n",
            "Iteration 312, loss = 14042.15184916\n",
            "Iteration 313, loss = 14039.24311495\n",
            "Iteration 314, loss = 14036.34902084\n",
            "Iteration 315, loss = 14033.41401435\n",
            "Iteration 316, loss = 14030.56628042\n",
            "Iteration 317, loss = 14027.66532145\n",
            "Iteration 318, loss = 14024.79604033\n",
            "Iteration 319, loss = 14021.90894295\n",
            "Iteration 320, loss = 14018.95731927\n",
            "Iteration 321, loss = 14016.13662077\n",
            "Iteration 322, loss = 14013.17064214\n",
            "Iteration 323, loss = 14010.31725536\n",
            "Iteration 324, loss = 14007.42760495\n",
            "Iteration 325, loss = 14004.55301970\n",
            "Iteration 326, loss = 14001.61207036\n",
            "Iteration 327, loss = 13998.73184130\n",
            "Iteration 328, loss = 13995.84374488\n",
            "Iteration 329, loss = 13992.95297984\n",
            "Iteration 330, loss = 13990.06380620\n",
            "Iteration 331, loss = 13987.14639606\n",
            "Iteration 332, loss = 13984.24368169\n",
            "Iteration 333, loss = 13981.33312939\n",
            "Iteration 334, loss = 13978.46313659\n",
            "Iteration 335, loss = 13975.53271403\n",
            "Iteration 336, loss = 13972.66704863\n",
            "Iteration 337, loss = 13969.77675827\n",
            "Iteration 338, loss = 13966.88014385\n",
            "Iteration 339, loss = 13963.93584681\n",
            "Iteration 340, loss = 13961.08713191\n",
            "Iteration 341, loss = 13958.15594700\n",
            "Iteration 342, loss = 13955.30342248\n",
            "Iteration 343, loss = 13952.40775018\n",
            "Iteration 344, loss = 13949.49555624\n",
            "Iteration 345, loss = 13946.63563272\n",
            "Iteration 346, loss = 13943.74018223\n",
            "Iteration 347, loss = 13940.84389174\n",
            "Iteration 348, loss = 13937.95754925\n",
            "Iteration 349, loss = 13935.13362725\n",
            "Iteration 350, loss = 13932.22346677\n",
            "Iteration 351, loss = 13929.32265335\n",
            "Iteration 352, loss = 13926.42968289\n",
            "Iteration 353, loss = 13923.59435024\n",
            "Iteration 354, loss = 13920.69024805\n",
            "Iteration 355, loss = 13917.82599822\n",
            "Iteration 356, loss = 13914.97381396\n",
            "Iteration 357, loss = 13912.06524772\n",
            "Iteration 358, loss = 13909.20070785\n",
            "Iteration 359, loss = 13906.31617770\n",
            "Iteration 360, loss = 13903.42114526\n",
            "Iteration 361, loss = 13900.56971849\n",
            "Iteration 362, loss = 13897.66531005\n",
            "Iteration 363, loss = 13894.78485641\n",
            "Iteration 364, loss = 13891.90261379\n",
            "Iteration 365, loss = 13889.01016854\n",
            "Iteration 366, loss = 13886.16751355\n",
            "Iteration 367, loss = 13883.21832731\n",
            "Iteration 368, loss = 13880.34185626\n",
            "Iteration 369, loss = 13877.52180454\n",
            "Iteration 370, loss = 13874.57559277\n",
            "Iteration 371, loss = 13871.68803407\n",
            "Iteration 372, loss = 13868.85091831\n",
            "Iteration 373, loss = 13865.98459925\n",
            "Iteration 374, loss = 13863.06726239\n",
            "Iteration 375, loss = 13860.20766204\n",
            "Iteration 376, loss = 13857.33948495\n",
            "Iteration 377, loss = 13854.44561422\n",
            "Iteration 378, loss = 13851.55763435\n",
            "Iteration 379, loss = 13848.74906797\n",
            "Iteration 380, loss = 13845.84820653\n",
            "Iteration 381, loss = 13842.95339731\n",
            "Iteration 382, loss = 13840.11657232\n",
            "Iteration 383, loss = 13837.19582724\n",
            "Iteration 384, loss = 13834.34505599\n",
            "Iteration 385, loss = 13831.50640545\n",
            "Iteration 386, loss = 13828.60032832\n",
            "Iteration 387, loss = 13825.77573020\n",
            "Iteration 388, loss = 13822.85111252\n",
            "Iteration 389, loss = 13820.00789962\n",
            "Iteration 390, loss = 13817.15781578\n",
            "Iteration 391, loss = 13814.25799403\n",
            "Iteration 392, loss = 13811.41036122\n",
            "Iteration 393, loss = 13808.52919284\n",
            "Iteration 394, loss = 13805.68935506\n",
            "Iteration 395, loss = 13802.80780272\n",
            "Iteration 396, loss = 13799.90803962\n",
            "Iteration 397, loss = 13797.08873746\n",
            "Iteration 398, loss = 13794.19484076\n",
            "Iteration 399, loss = 13791.31112425\n",
            "Iteration 400, loss = 13788.46781306\n",
            "Iteration 401, loss = 13785.61642735\n",
            "Iteration 402, loss = 13782.73050245\n",
            "Iteration 403, loss = 13779.85699016\n",
            "Iteration 404, loss = 13777.01319969\n",
            "Iteration 405, loss = 13774.12629150\n",
            "Iteration 406, loss = 13771.30909343\n",
            "Iteration 407, loss = 13768.41296241\n",
            "Iteration 408, loss = 13765.53503776\n",
            "Iteration 409, loss = 13762.70889080\n",
            "Iteration 410, loss = 13759.84681809\n",
            "Iteration 411, loss = 13756.96005245\n",
            "Iteration 412, loss = 13754.11184175\n",
            "Iteration 413, loss = 13751.24476091\n",
            "Iteration 414, loss = 13748.37359979\n",
            "Iteration 415, loss = 13745.53894474\n",
            "Iteration 416, loss = 13742.66952939\n",
            "Iteration 417, loss = 13739.79678293\n",
            "Iteration 418, loss = 13736.96515968\n",
            "Iteration 419, loss = 13734.10905322\n",
            "Iteration 420, loss = 13731.24742019\n",
            "Iteration 421, loss = 13728.39137476\n",
            "Iteration 422, loss = 13725.55836377\n",
            "Iteration 423, loss = 13722.72567626\n",
            "Iteration 424, loss = 13719.87325493\n",
            "Iteration 425, loss = 13717.01691285\n",
            "Iteration 426, loss = 13714.17757679\n",
            "Iteration 427, loss = 13711.39083217\n",
            "Iteration 428, loss = 13708.52629964\n",
            "Iteration 429, loss = 13705.64482275\n",
            "Iteration 430, loss = 13702.84149122\n",
            "Iteration 431, loss = 13700.03172260\n",
            "Iteration 432, loss = 13697.14079593\n",
            "Iteration 433, loss = 13694.35562679\n",
            "Iteration 434, loss = 13691.50311321\n",
            "Iteration 435, loss = 13688.65126140\n",
            "Iteration 436, loss = 13685.81655825\n",
            "Iteration 437, loss = 13682.99112099\n",
            "Iteration 438, loss = 13680.14403372\n",
            "Iteration 439, loss = 13677.32727610\n",
            "Iteration 440, loss = 13674.48330987\n",
            "Iteration 441, loss = 13671.64984359\n",
            "Iteration 442, loss = 13668.75321285\n",
            "Iteration 443, loss = 13665.97729932\n",
            "Iteration 444, loss = 13663.14337628\n",
            "Iteration 445, loss = 13660.27935702\n",
            "Iteration 446, loss = 13657.44288760\n",
            "Iteration 447, loss = 13654.61148836\n",
            "Iteration 448, loss = 13651.77151847\n",
            "Iteration 449, loss = 13648.94207324\n",
            "Iteration 450, loss = 13646.09796215\n",
            "Iteration 451, loss = 13643.28694664\n",
            "Iteration 452, loss = 13640.42536332\n",
            "Iteration 453, loss = 13637.59077333\n",
            "Iteration 454, loss = 13634.75877243\n",
            "Iteration 455, loss = 13631.96146864\n",
            "Iteration 456, loss = 13629.11287923\n",
            "Iteration 457, loss = 13626.28807041\n",
            "Iteration 458, loss = 13623.45543894\n",
            "Iteration 459, loss = 13620.62597875\n",
            "Iteration 460, loss = 13617.81046142\n",
            "Iteration 461, loss = 13614.99685555\n",
            "Iteration 462, loss = 13612.16715876\n",
            "Iteration 463, loss = 13609.33019480\n",
            "Iteration 464, loss = 13606.52652280\n",
            "Iteration 465, loss = 13603.69822298\n",
            "Iteration 466, loss = 13600.91398152\n",
            "Iteration 467, loss = 13598.06094746\n",
            "Iteration 468, loss = 13595.25237872\n",
            "Iteration 469, loss = 13592.43644078\n",
            "Iteration 470, loss = 13589.59567565\n",
            "Iteration 471, loss = 13586.80334194\n",
            "Iteration 472, loss = 13583.99761416\n",
            "Iteration 473, loss = 13581.14833585\n",
            "Iteration 474, loss = 13578.32470321\n",
            "Iteration 475, loss = 13575.51732210\n",
            "Iteration 476, loss = 13572.68927314\n",
            "Iteration 477, loss = 13569.87807739\n",
            "Iteration 478, loss = 13567.05389371\n",
            "Iteration 479, loss = 13564.25504884\n",
            "Iteration 480, loss = 13561.38646835\n",
            "Iteration 481, loss = 13558.61294526\n",
            "Iteration 482, loss = 13555.77016644\n",
            "Iteration 483, loss = 13552.95031799\n",
            "Iteration 484, loss = 13550.11426029\n",
            "Iteration 485, loss = 13547.29510168\n",
            "Iteration 486, loss = 13544.48011583\n",
            "Iteration 487, loss = 13541.65796922\n",
            "Iteration 488, loss = 13538.82560768\n",
            "Iteration 489, loss = 13535.99364110\n",
            "Iteration 490, loss = 13533.14079366\n",
            "Iteration 491, loss = 13530.35471562\n",
            "Iteration 492, loss = 13527.52478291\n",
            "Iteration 493, loss = 13524.71027893\n",
            "Iteration 494, loss = 13521.87362078\n",
            "Iteration 495, loss = 13519.02644207\n",
            "Iteration 496, loss = 13516.25303498\n",
            "Iteration 497, loss = 13513.41855250\n",
            "Iteration 498, loss = 13510.61269241\n",
            "Iteration 499, loss = 13507.78930497\n",
            "Iteration 500, loss = 13504.98718958\n"
          ],
          "name": "stdout"
        },
        {
          "output_type": "stream",
          "text": [
            "/usr/local/lib/python3.6/dist-packages/sklearn/neural_network/multilayer_perceptron.py:562: ConvergenceWarning: Stochastic Optimizer: Maximum iterations (500) reached and the optimization hasn't converged yet.\n",
            "  % self.max_iter, ConvergenceWarning)\n"
          ],
          "name": "stderr"
        },
        {
          "output_type": "execute_result",
          "data": {
            "text/plain": [
              "MLPRegressor(activation='relu', alpha=0.0001, batch_size='auto', beta_1=0.9,\n",
              "       beta_2=0.999, early_stopping=False, epsilon=1e-08,\n",
              "       hidden_layer_sizes=(5, 6, 7, 8, 2), learning_rate='constant',\n",
              "       learning_rate_init=0.01, max_iter=500, momentum=0.9,\n",
              "       n_iter_no_change=10, nesterovs_momentum=True, power_t=0.5,\n",
              "       random_state=None, shuffle=True, solver='adam', tol=0.0001,\n",
              "       validation_fraction=0.1, verbose=1, warm_start=False)"
            ]
          },
          "metadata": {
            "tags": []
          },
          "execution_count": 34
        }
      ]
    },
    {
      "metadata": {
        "id": "Y4WsEXTJPMdu",
        "colab_type": "code",
        "colab": {}
      },
      "cell_type": "code",
      "source": [
        ""
      ],
      "execution_count": 0,
      "outputs": []
    },
    {
      "metadata": {
        "id": "9BvQRXUnUGZj",
        "colab_type": "text"
      },
      "cell_type": "markdown",
      "source": [
        "# MNIST dataset"
      ]
    },
    {
      "metadata": {
        "id": "rqzTWL5WPMgb",
        "colab_type": "code",
        "colab": {}
      },
      "cell_type": "code",
      "source": [
        "digits = datasets.load_digits()"
      ],
      "execution_count": 0,
      "outputs": []
    },
    {
      "metadata": {
        "id": "UD3_HdrVUW_8",
        "colab_type": "code",
        "colab": {
          "base_uri": "https://localhost:8080/",
          "height": 139
        },
        "outputId": "62c1a23f-b800-4173-ca25-51353436bc2d"
      },
      "cell_type": "code",
      "source": [
        "digits.data"
      ],
      "execution_count": 36,
      "outputs": [
        {
          "output_type": "execute_result",
          "data": {
            "text/plain": [
              "array([[ 0.,  0.,  5., ...,  0.,  0.,  0.],\n",
              "       [ 0.,  0.,  0., ..., 10.,  0.,  0.],\n",
              "       [ 0.,  0.,  0., ..., 16.,  9.,  0.],\n",
              "       ...,\n",
              "       [ 0.,  0.,  1., ...,  6.,  0.,  0.],\n",
              "       [ 0.,  0.,  2., ..., 12.,  0.,  0.],\n",
              "       [ 0.,  0., 10., ..., 12.,  1.,  0.]])"
            ]
          },
          "metadata": {
            "tags": []
          },
          "execution_count": 36
        }
      ]
    },
    {
      "metadata": {
        "id": "9C-ui6q8UYOR",
        "colab_type": "code",
        "colab": {
          "base_uri": "https://localhost:8080/",
          "height": 35
        },
        "outputId": "907166e9-88a9-4975-f5aa-145a1d80d19d"
      },
      "cell_type": "code",
      "source": [
        "digits.target"
      ],
      "execution_count": 37,
      "outputs": [
        {
          "output_type": "execute_result",
          "data": {
            "text/plain": [
              "array([0, 1, 2, ..., 8, 9, 8])"
            ]
          },
          "metadata": {
            "tags": []
          },
          "execution_count": 37
        }
      ]
    },
    {
      "metadata": {
        "id": "QMKpIPiVUa3M",
        "colab_type": "code",
        "colab": {
          "base_uri": "https://localhost:8080/",
          "height": 428
        },
        "outputId": "cef6d9a9-f541-428f-c98c-a8e35ddaaa12"
      },
      "cell_type": "code",
      "source": [
        "images_and_labels = list(zip(digits.images, digits.target))\n",
        "\n",
        "for index, (image, label) in enumerate(images_and_labels[:5]):\n",
        "  print(image.shape)\n",
        "  print(label)\n",
        "  plt.subplot(2, 4, index+1)\n",
        "  plt.imshow(image, cmap = plt.cm.gray_r, interpolation = 'nearest')\n",
        "  plt.title('TrainingL %i' %label)"
      ],
      "execution_count": 40,
      "outputs": [
        {
          "output_type": "stream",
          "text": [
            "(8, 8)\n",
            "0\n",
            "(8, 8)\n",
            "1\n",
            "(8, 8)\n",
            "2\n",
            "(8, 8)\n",
            "3\n",
            "(8, 8)\n",
            "4\n"
          ],
          "name": "stdout"
        },
        {
          "output_type": "display_data",
          "data": {
            "image/png": "[encoded data removed]",
            "text/plain": [
              "<Figure size 432x288 with 5 Axes>"
            ]
          },
          "metadata": {
            "tags": []
          }
        }
      ]
    },
    {
      "metadata": {
        "id": "vXczVFIWVRXw",
        "colab_type": "code",
        "colab": {
          "base_uri": "https://localhost:8080/",
          "height": 87
        },
        "outputId": "8a968f8d-5c19-43d2-a7e1-5a19aa3fd5f0"
      },
      "cell_type": "code",
      "source": [
        "# reshaping the images into matrix (flatten matrix)\n",
        "n_samples = len(digits.images)\n",
        "data = digits.images.reshape((n_samples, -1))\n",
        "\n",
        "\n",
        "from sklearn import svm, metrics\n",
        "from sklearn.neural_network import MLPClassifier\n",
        "\n",
        "#create the model\n",
        "clf = svm.SVC(gamma = 0.001)\n",
        "\n",
        "#training\n",
        "clf.fit(data[:n_samples// 2], digits.target[:n_samples // 2])"
      ],
      "execution_count": 42,
      "outputs": [
        {
          "output_type": "execute_result",
          "data": {
            "text/plain": [
              "SVC(C=1.0, cache_size=200, class_weight=None, coef0=0.0,\n",
              "  decision_function_shape='ovr', degree=3, gamma=0.001, kernel='rbf',\n",
              "  max_iter=-1, probability=False, random_state=None, shrinking=True,\n",
              "  tol=0.001, verbose=False)"
            ]
          },
          "metadata": {
            "tags": []
          },
          "execution_count": 42
        }
      ]
    },
    {
      "metadata": {
        "id": "uce3a3Cyj66X",
        "colab_type": "code",
        "colab": {
          "base_uri": "https://localhost:8080/",
          "height": 419
        },
        "outputId": "6d08e51c-a4d3-47d0-d1a0-919920f704fc"
      },
      "cell_type": "code",
      "source": [
        "truth = digits.target[n_samples //2:]\n",
        "predicted = clf.predict(data[n_samples//2:])\n",
        "\n",
        "print(\"Classification report for classifier %s:\\n%s\\n\"\n",
        "     % (clf, metrics.classification_report(truth, predicted)))"
      ],
      "execution_count": 46,
      "outputs": [
        {
          "output_type": "stream",
          "text": [
            "Classification report for classifier SVC(C=1.0, cache_size=200, class_weight=None, coef0=0.0,\n",
            "  decision_function_shape='ovr', degree=3, gamma=0.001, kernel='rbf',\n",
            "  max_iter=-1, probability=False, random_state=None, shrinking=True,\n",
            "  tol=0.001, verbose=False):\n",
            "              precision    recall  f1-score   support\n",
            "\n",
            "           0       1.00      0.99      0.99        88\n",
            "           1       0.99      0.97      0.98        91\n",
            "           2       0.99      0.99      0.99        86\n",
            "           3       0.98      0.87      0.92        91\n",
            "           4       0.99      0.96      0.97        92\n",
            "           5       0.95      0.97      0.96        91\n",
            "           6       0.99      0.99      0.99        91\n",
            "           7       0.96      0.99      0.97        89\n",
            "           8       0.94      1.00      0.97        88\n",
            "           9       0.93      0.98      0.95        92\n",
            "\n",
            "   micro avg       0.97      0.97      0.97       899\n",
            "   macro avg       0.97      0.97      0.97       899\n",
            "weighted avg       0.97      0.97      0.97       899\n",
            "\n",
            "\n"
          ],
          "name": "stdout"
        }
      ]
    },
    {
      "metadata": {
        "id": "p5TjzFfLk7me",
        "colab_type": "code",
        "colab": {
          "base_uri": "https://localhost:8080/",
          "height": 208
        },
        "outputId": "e6d1546d-c89f-46fa-a694-d65121fed94e"
      },
      "cell_type": "code",
      "source": [
        "print('Confusion Matrix:\\n%s' % metrics.confusion_matrix(truth, predicted))"
      ],
      "execution_count": 47,
      "outputs": [
        {
          "output_type": "stream",
          "text": [
            "COnfusion Matrix:\n",
            "[[87  0  0  0  1  0  0  0  0  0]\n",
            " [ 0 88  1  0  0  0  0  0  1  1]\n",
            " [ 0  0 85  1  0  0  0  0  0  0]\n",
            " [ 0  0  0 79  0  3  0  4  5  0]\n",
            " [ 0  0  0  0 88  0  0  0  0  4]\n",
            " [ 0  0  0  0  0 88  1  0  0  2]\n",
            " [ 0  1  0  0  0  0 90  0  0  0]\n",
            " [ 0  0  0  0  0  1  0 88  0  0]\n",
            " [ 0  0  0  0  0  0  0  0 88  0]\n",
            " [ 0  0  0  1  0  1  0  0  0 90]]\n"
          ],
          "name": "stdout"
        }
      ]
    },
    {
      "metadata": {
        "id": "lNyjLk8jmal1",
        "colab_type": "code",
        "colab": {
          "base_uri": "https://localhost:8080/",
          "height": 52
        },
        "outputId": "7c9d4217-84e4-4d1c-d5e1-48cb77b0de2f"
      },
      "cell_type": "code",
      "source": [
        "score = metrics.accuracy_score(truth, predicted)\n",
        "print(\"Accuracy Score for SVM:\\n\", score*100, \"%\")"
      ],
      "execution_count": 53,
      "outputs": [
        {
          "output_type": "stream",
          "text": [
            "Accuracy Score for SVM:\n",
            " 96.88542825361512 %\n"
          ],
          "name": "stdout"
        }
      ]
    },
    {
      "metadata": {
        "id": "7F75qXQAoLDH",
        "colab_type": "code",
        "colab": {}
      },
      "cell_type": "code",
      "source": [
        "X_train, X_test, y_train, y_test = train_test_split(digits.data, digits.target, test_size=0.30, random_state=42)"
      ],
      "execution_count": 0,
      "outputs": []
    },
    {
      "metadata": {
        "id": "PFLVz2sYmaph",
        "colab_type": "code",
        "colab": {
          "base_uri": "https://localhost:8080/",
          "height": 2587
        },
        "outputId": "f7e3cb5b-6b2c-4f02-a20d-82656d53d217"
      },
      "cell_type": "code",
      "source": [
        "mlp = MLPClassifier(verbose=True)\n",
        "\n",
        "\n",
        "mlp.fit(X_train, y_train)"
      ],
      "execution_count": 57,
      "outputs": [
        {
          "output_type": "stream",
          "text": [
            "Iteration 1, loss = 9.34359886\n",
            "Iteration 2, loss = 4.23513798\n",
            "Iteration 3, loss = 2.62861685\n",
            "Iteration 4, loss = 1.69998920\n",
            "Iteration 5, loss = 1.00161292\n",
            "Iteration 6, loss = 0.69546880\n",
            "Iteration 7, loss = 0.53306508\n",
            "Iteration 8, loss = 0.42606579\n",
            "Iteration 9, loss = 0.35938941\n",
            "Iteration 10, loss = 0.31505431\n",
            "Iteration 11, loss = 0.27690220\n",
            "Iteration 12, loss = 0.24910566\n",
            "Iteration 13, loss = 0.22687203\n",
            "Iteration 14, loss = 0.20870817\n",
            "Iteration 15, loss = 0.19296198\n",
            "Iteration 16, loss = 0.17861956\n",
            "Iteration 17, loss = 0.16804308\n",
            "Iteration 18, loss = 0.15677216\n",
            "Iteration 19, loss = 0.14647173\n",
            "Iteration 20, loss = 0.13628804\n",
            "Iteration 21, loss = 0.12919397\n",
            "Iteration 22, loss = 0.12138278\n",
            "Iteration 23, loss = 0.11447573\n",
            "Iteration 24, loss = 0.10669628\n",
            "Iteration 25, loss = 0.10156006\n",
            "Iteration 26, loss = 0.09384734\n",
            "Iteration 27, loss = 0.08988169\n",
            "Iteration 28, loss = 0.08499528\n",
            "Iteration 29, loss = 0.08007373\n",
            "Iteration 30, loss = 0.07578015\n",
            "Iteration 31, loss = 0.07247806\n",
            "Iteration 32, loss = 0.06811757\n",
            "Iteration 33, loss = 0.06477571\n",
            "Iteration 34, loss = 0.06217760\n",
            "Iteration 35, loss = 0.05856267\n",
            "Iteration 36, loss = 0.05559164\n",
            "Iteration 37, loss = 0.05239365\n",
            "Iteration 38, loss = 0.05030819\n",
            "Iteration 39, loss = 0.04782018\n",
            "Iteration 40, loss = 0.04615354\n",
            "Iteration 41, loss = 0.04399690\n",
            "Iteration 42, loss = 0.04088474\n",
            "Iteration 43, loss = 0.04110560\n",
            "Iteration 44, loss = 0.03833886\n",
            "Iteration 45, loss = 0.03671528\n",
            "Iteration 46, loss = 0.03499228\n",
            "Iteration 47, loss = 0.03346173\n",
            "Iteration 48, loss = 0.03194638\n",
            "Iteration 49, loss = 0.03106494\n",
            "Iteration 50, loss = 0.02961002\n",
            "Iteration 51, loss = 0.02854402\n",
            "Iteration 52, loss = 0.02744961\n",
            "Iteration 53, loss = 0.02645860\n",
            "Iteration 54, loss = 0.02564202\n",
            "Iteration 55, loss = 0.02477183\n",
            "Iteration 56, loss = 0.02392698\n",
            "Iteration 57, loss = 0.02303944\n",
            "Iteration 58, loss = 0.02224697\n",
            "Iteration 59, loss = 0.02148993\n",
            "Iteration 60, loss = 0.02093855\n",
            "Iteration 61, loss = 0.02032978\n",
            "Iteration 62, loss = 0.01977617\n",
            "Iteration 63, loss = 0.01916079\n",
            "Iteration 64, loss = 0.01853965\n",
            "Iteration 65, loss = 0.01807203\n",
            "Iteration 66, loss = 0.01749939\n",
            "Iteration 67, loss = 0.01710175\n",
            "Iteration 68, loss = 0.01664486\n",
            "Iteration 69, loss = 0.01616891\n",
            "Iteration 70, loss = 0.01573790\n",
            "Iteration 71, loss = 0.01535953\n",
            "Iteration 72, loss = 0.01534323\n",
            "Iteration 73, loss = 0.01469601\n",
            "Iteration 74, loss = 0.01428840\n",
            "Iteration 75, loss = 0.01388543\n",
            "Iteration 76, loss = 0.01355588\n",
            "Iteration 77, loss = 0.01326753\n",
            "Iteration 78, loss = 0.01282181\n",
            "Iteration 79, loss = 0.01269177\n",
            "Iteration 80, loss = 0.01248793\n",
            "Iteration 81, loss = 0.01201945\n",
            "Iteration 82, loss = 0.01201476\n",
            "Iteration 83, loss = 0.01170358\n",
            "Iteration 84, loss = 0.01135886\n",
            "Iteration 85, loss = 0.01110303\n",
            "Iteration 86, loss = 0.01090152\n",
            "Iteration 87, loss = 0.01066114\n",
            "Iteration 88, loss = 0.01043902\n",
            "Iteration 89, loss = 0.01018394\n",
            "Iteration 90, loss = 0.00998018\n",
            "Iteration 91, loss = 0.00984397\n",
            "Iteration 92, loss = 0.00956596\n",
            "Iteration 93, loss = 0.00938946\n",
            "Iteration 94, loss = 0.00924063\n",
            "Iteration 95, loss = 0.00896378\n",
            "Iteration 96, loss = 0.00875632\n",
            "Iteration 97, loss = 0.00870573\n",
            "Iteration 98, loss = 0.00849723\n",
            "Iteration 99, loss = 0.00831651\n",
            "Iteration 100, loss = 0.00820759\n",
            "Iteration 101, loss = 0.00801301\n",
            "Iteration 102, loss = 0.00791268\n",
            "Iteration 103, loss = 0.00774537\n",
            "Iteration 104, loss = 0.00760687\n",
            "Iteration 105, loss = 0.00744569\n",
            "Iteration 106, loss = 0.00732898\n",
            "Iteration 107, loss = 0.00723758\n",
            "Iteration 108, loss = 0.00711298\n",
            "Iteration 109, loss = 0.00696400\n",
            "Iteration 110, loss = 0.00685895\n",
            "Iteration 111, loss = 0.00680471\n",
            "Iteration 112, loss = 0.00670160\n",
            "Iteration 113, loss = 0.00658649\n",
            "Iteration 114, loss = 0.00647662\n",
            "Iteration 115, loss = 0.00634355\n",
            "Iteration 116, loss = 0.00623430\n",
            "Iteration 117, loss = 0.00614659\n",
            "Iteration 118, loss = 0.00604678\n",
            "Iteration 119, loss = 0.00594047\n",
            "Iteration 120, loss = 0.00590905\n",
            "Iteration 121, loss = 0.00583669\n",
            "Iteration 122, loss = 0.00569063\n",
            "Iteration 123, loss = 0.00562811\n",
            "Iteration 124, loss = 0.00557451\n",
            "Iteration 125, loss = 0.00539777\n",
            "Iteration 126, loss = 0.00535365\n",
            "Iteration 127, loss = 0.00524960\n",
            "Iteration 128, loss = 0.00518528\n",
            "Iteration 129, loss = 0.00509908\n",
            "Iteration 130, loss = 0.00504458\n",
            "Iteration 131, loss = 0.00497539\n",
            "Iteration 132, loss = 0.00497260\n",
            "Iteration 133, loss = 0.00486878\n",
            "Iteration 134, loss = 0.00475633\n",
            "Iteration 135, loss = 0.00469406\n",
            "Iteration 136, loss = 0.00463399\n",
            "Iteration 137, loss = 0.00458822\n",
            "Iteration 138, loss = 0.00449890\n",
            "Iteration 139, loss = 0.00444901\n",
            "Iteration 140, loss = 0.00439777\n",
            "Iteration 141, loss = 0.00431281\n",
            "Iteration 142, loss = 0.00427482\n",
            "Iteration 143, loss = 0.00423303\n",
            "Iteration 144, loss = 0.00415723\n",
            "Iteration 145, loss = 0.00409980\n",
            "Training loss did not improve more than tol=0.000100 for 10 consecutive epochs. Stopping.\n"
          ],
          "name": "stdout"
        },
        {
          "output_type": "execute_result",
          "data": {
            "text/plain": [
              "MLPClassifier(activation='relu', alpha=0.0001, batch_size='auto', beta_1=0.9,\n",
              "       beta_2=0.999, early_stopping=False, epsilon=1e-08,\n",
              "       hidden_layer_sizes=(100,), learning_rate='constant',\n",
              "       learning_rate_init=0.001, max_iter=200, momentum=0.9,\n",
              "       n_iter_no_change=10, nesterovs_momentum=True, power_t=0.5,\n",
              "       random_state=None, shuffle=True, solver='adam', tol=0.0001,\n",
              "       validation_fraction=0.1, verbose=True, warm_start=False)"
            ]
          },
          "metadata": {
            "tags": []
          },
          "execution_count": 57
        }
      ]
    },
    {
      "metadata": {
        "id": "MNoTMutTmasS",
        "colab_type": "code",
        "colab": {
          "base_uri": "https://localhost:8080/",
          "height": 457
        },
        "outputId": "a3aa0598-c4f9-47b5-ec95-116142549758"
      },
      "cell_type": "code",
      "source": [
        "pred_y = mlp.predict(X_test)\n",
        "\n",
        "print(\"Classification report for classifier %s:\\n%s\\n\"\n",
        "     % (mlp, metrics.classification_report(y_test, pred_y)))"
      ],
      "execution_count": 58,
      "outputs": [
        {
          "output_type": "stream",
          "text": [
            "Classification report for classifier MLPClassifier(activation='relu', alpha=0.0001, batch_size='auto', beta_1=0.9,\n",
            "       beta_2=0.999, early_stopping=False, epsilon=1e-08,\n",
            "       hidden_layer_sizes=(100,), learning_rate='constant',\n",
            "       learning_rate_init=0.001, max_iter=200, momentum=0.9,\n",
            "       n_iter_no_change=10, nesterovs_momentum=True, power_t=0.5,\n",
            "       random_state=None, shuffle=True, solver='adam', tol=0.0001,\n",
            "       validation_fraction=0.1, verbose=True, warm_start=False):\n",
            "              precision    recall  f1-score   support\n",
            "\n",
            "           0       1.00      1.00      1.00        53\n",
            "           1       0.98      0.96      0.97        50\n",
            "           2       0.98      1.00      0.99        47\n",
            "           3       0.98      0.94      0.96        54\n",
            "           4       0.97      0.98      0.98        60\n",
            "           5       0.97      0.97      0.97        66\n",
            "           6       0.98      0.98      0.98        53\n",
            "           7       1.00      0.98      0.99        55\n",
            "           8       0.93      0.98      0.95        43\n",
            "           9       0.97      0.97      0.97        59\n",
            "\n",
            "   micro avg       0.98      0.98      0.98       540\n",
            "   macro avg       0.98      0.98      0.98       540\n",
            "weighted avg       0.98      0.98      0.98       540\n",
            "\n",
            "\n"
          ],
          "name": "stdout"
        }
      ]
    },
    {
      "metadata": {
        "id": "2Rg68WD_maxv",
        "colab_type": "code",
        "colab": {}
      },
      "cell_type": "code",
      "source": [
        ""
      ],
      "execution_count": 0,
      "outputs": []
    },
    {
      "metadata": {
        "id": "vXRovdnQ8P-1",
        "colab_type": "text"
      },
      "cell_type": "markdown",
      "source": [
        "# Fresh with new graduate admission data"
      ]
    },
    {
      "metadata": {
        "id": "NWrZeupSma3E",
        "colab_type": "code",
        "colab": {
          "base_uri": "https://localhost:8080/",
          "height": 195
        },
        "outputId": "de3cc84f-b9b8-494c-93d4-3c97ba179a63"
      },
      "cell_type": "code",
      "source": [
        "import pandas as pd\n",
        "import numpy as np\n",
        "import seaborn as se; se.set()\n",
        "\n",
        "df = pd.read_csv('Admission_Predict_Ver1.1.csv')\n",
        "\n",
        "df = df.drop('Serial No.', axis = 1)\n",
        "df.head()"
      ],
      "execution_count": 69,
      "outputs": [
        {
          "output_type": "execute_result",
          "data": {
            "text/html": [
              "<div>\n",
              "<style scoped>\n",
              "    .dataframe tbody tr th:only-of-type {\n",
              "        vertical-align: middle;\n",
              "    }\n",
              "\n",
              "    .dataframe tbody tr th {\n",
              "        vertical-align: top;\n",
              "    }\n",
              "\n",
              "    .dataframe thead th {\n",
              "        text-align: right;\n",
              "    }\n",
              "</style>\n",
              "<table border=\"1\" class=\"dataframe\">\n",
              "  <thead>\n",
              "    <tr style=\"text-align: right;\">\n",
              "      <th></th>\n",
              "      <th>GRE Score</th>\n",
              "      <th>TOEFL Score</th>\n",
              "      <th>University Rating</th>\n",
              "      <th>SOP</th>\n",
              "      <th>LOR</th>\n",
              "      <th>CGPA</th>\n",
              "      <th>Research</th>\n",
              "      <th>Chance of Admit</th>\n",
              "    </tr>\n",
              "  </thead>\n",
              "  <tbody>\n",
              "    <tr>\n",
              "      <th>0</th>\n",
              "      <td>337</td>\n",
              "      <td>118</td>\n",
              "      <td>4</td>\n",
              "      <td>4.5</td>\n",
              "      <td>4.5</td>\n",
              "      <td>9.65</td>\n",
              "      <td>1</td>\n",
              "      <td>0.92</td>\n",
              "    </tr>\n",
              "    <tr>\n",
              "      <th>1</th>\n",
              "      <td>324</td>\n",
              "      <td>107</td>\n",
              "      <td>4</td>\n",
              "      <td>4.0</td>\n",
              "      <td>4.5</td>\n",
              "      <td>8.87</td>\n",
              "      <td>1</td>\n",
              "      <td>0.76</td>\n",
              "    </tr>\n",
              "    <tr>\n",
              "      <th>2</th>\n",
              "      <td>316</td>\n",
              "      <td>104</td>\n",
              "      <td>3</td>\n",
              "      <td>3.0</td>\n",
              "      <td>3.5</td>\n",
              "      <td>8.00</td>\n",
              "      <td>1</td>\n",
              "      <td>0.72</td>\n",
              "    </tr>\n",
              "    <tr>\n",
              "      <th>3</th>\n",
              "      <td>322</td>\n",
              "      <td>110</td>\n",
              "      <td>3</td>\n",
              "      <td>3.5</td>\n",
              "      <td>2.5</td>\n",
              "      <td>8.67</td>\n",
              "      <td>1</td>\n",
              "      <td>0.80</td>\n",
              "    </tr>\n",
              "    <tr>\n",
              "      <th>4</th>\n",
              "      <td>314</td>\n",
              "      <td>103</td>\n",
              "      <td>2</td>\n",
              "      <td>2.0</td>\n",
              "      <td>3.0</td>\n",
              "      <td>8.21</td>\n",
              "      <td>0</td>\n",
              "      <td>0.65</td>\n",
              "    </tr>\n",
              "  </tbody>\n",
              "</table>\n",
              "</div>"
            ],
            "text/plain": [
              "   GRE Score  TOEFL Score  University Rating  SOP  LOR   CGPA  Research  \\\n",
              "0        337          118                  4  4.5   4.5  9.65         1   \n",
              "1        324          107                  4  4.0   4.5  8.87         1   \n",
              "2        316          104                  3  3.0   3.5  8.00         1   \n",
              "3        322          110                  3  3.5   2.5  8.67         1   \n",
              "4        314          103                  2  2.0   3.0  8.21         0   \n",
              "\n",
              "   Chance of Admit   \n",
              "0              0.92  \n",
              "1              0.76  \n",
              "2              0.72  \n",
              "3              0.80  \n",
              "4              0.65  "
            ]
          },
          "metadata": {
            "tags": []
          },
          "execution_count": 69
        }
      ]
    },
    {
      "metadata": {
        "id": "H3dmVGe19EB5",
        "colab_type": "code",
        "colab": {
          "base_uri": "https://localhost:8080/",
          "height": 235
        },
        "outputId": "a1462cd3-5d8b-4817-ebed-991d41d6abf2"
      },
      "cell_type": "code",
      "source": [
        "df.info()"
      ],
      "execution_count": 61,
      "outputs": [
        {
          "output_type": "stream",
          "text": [
            "<class 'pandas.core.frame.DataFrame'>\n",
            "RangeIndex: 500 entries, 0 to 499\n",
            "Data columns (total 8 columns):\n",
            "GRE Score            500 non-null int64\n",
            "TOEFL Score          500 non-null int64\n",
            "University Rating    500 non-null int64\n",
            "SOP                  500 non-null float64\n",
            "LOR                  500 non-null float64\n",
            "CGPA                 500 non-null float64\n",
            "Research             500 non-null int64\n",
            "Chance of Admit      500 non-null float64\n",
            "dtypes: float64(4), int64(4)\n",
            "memory usage: 31.3 KB\n"
          ],
          "name": "stdout"
        }
      ]
    },
    {
      "metadata": {
        "id": "xHlzXgxR9jN8",
        "colab_type": "code",
        "colab": {
          "base_uri": "https://localhost:8080/",
          "height": 301
        },
        "outputId": "b50673ce-9744-461f-8cff-470bb58728eb"
      },
      "cell_type": "code",
      "source": [
        "df.describe()"
      ],
      "execution_count": 62,
      "outputs": [
        {
          "output_type": "execute_result",
          "data": {
            "text/html": [
              "<div>\n",
              "<style scoped>\n",
              "    .dataframe tbody tr th:only-of-type {\n",
              "        vertical-align: middle;\n",
              "    }\n",
              "\n",
              "    .dataframe tbody tr th {\n",
              "        vertical-align: top;\n",
              "    }\n",
              "\n",
              "    .dataframe thead th {\n",
              "        text-align: right;\n",
              "    }\n",
              "</style>\n",
              "<table border=\"1\" class=\"dataframe\">\n",
              "  <thead>\n",
              "    <tr style=\"text-align: right;\">\n",
              "      <th></th>\n",
              "      <th>GRE Score</th>\n",
              "      <th>TOEFL Score</th>\n",
              "      <th>University Rating</th>\n",
              "      <th>SOP</th>\n",
              "      <th>LOR</th>\n",
              "      <th>CGPA</th>\n",
              "      <th>Research</th>\n",
              "      <th>Chance of Admit</th>\n",
              "    </tr>\n",
              "  </thead>\n",
              "  <tbody>\n",
              "    <tr>\n",
              "      <th>count</th>\n",
              "      <td>500.000000</td>\n",
              "      <td>500.000000</td>\n",
              "      <td>500.000000</td>\n",
              "      <td>500.000000</td>\n",
              "      <td>500.00000</td>\n",
              "      <td>500.000000</td>\n",
              "      <td>500.000000</td>\n",
              "      <td>500.00000</td>\n",
              "    </tr>\n",
              "    <tr>\n",
              "      <th>mean</th>\n",
              "      <td>316.472000</td>\n",
              "      <td>107.192000</td>\n",
              "      <td>3.114000</td>\n",
              "      <td>3.374000</td>\n",
              "      <td>3.48400</td>\n",
              "      <td>8.576440</td>\n",
              "      <td>0.560000</td>\n",
              "      <td>0.72174</td>\n",
              "    </tr>\n",
              "    <tr>\n",
              "      <th>std</th>\n",
              "      <td>11.295148</td>\n",
              "      <td>6.081868</td>\n",
              "      <td>1.143512</td>\n",
              "      <td>0.991004</td>\n",
              "      <td>0.92545</td>\n",
              "      <td>0.604813</td>\n",
              "      <td>0.496884</td>\n",
              "      <td>0.14114</td>\n",
              "    </tr>\n",
              "    <tr>\n",
              "      <th>min</th>\n",
              "      <td>290.000000</td>\n",
              "      <td>92.000000</td>\n",
              "      <td>1.000000</td>\n",
              "      <td>1.000000</td>\n",
              "      <td>1.00000</td>\n",
              "      <td>6.800000</td>\n",
              "      <td>0.000000</td>\n",
              "      <td>0.34000</td>\n",
              "    </tr>\n",
              "    <tr>\n",
              "      <th>25%</th>\n",
              "      <td>308.000000</td>\n",
              "      <td>103.000000</td>\n",
              "      <td>2.000000</td>\n",
              "      <td>2.500000</td>\n",
              "      <td>3.00000</td>\n",
              "      <td>8.127500</td>\n",
              "      <td>0.000000</td>\n",
              "      <td>0.63000</td>\n",
              "    </tr>\n",
              "    <tr>\n",
              "      <th>50%</th>\n",
              "      <td>317.000000</td>\n",
              "      <td>107.000000</td>\n",
              "      <td>3.000000</td>\n",
              "      <td>3.500000</td>\n",
              "      <td>3.50000</td>\n",
              "      <td>8.560000</td>\n",
              "      <td>1.000000</td>\n",
              "      <td>0.72000</td>\n",
              "    </tr>\n",
              "    <tr>\n",
              "      <th>75%</th>\n",
              "      <td>325.000000</td>\n",
              "      <td>112.000000</td>\n",
              "      <td>4.000000</td>\n",
              "      <td>4.000000</td>\n",
              "      <td>4.00000</td>\n",
              "      <td>9.040000</td>\n",
              "      <td>1.000000</td>\n",
              "      <td>0.82000</td>\n",
              "    </tr>\n",
              "    <tr>\n",
              "      <th>max</th>\n",
              "      <td>340.000000</td>\n",
              "      <td>120.000000</td>\n",
              "      <td>5.000000</td>\n",
              "      <td>5.000000</td>\n",
              "      <td>5.00000</td>\n",
              "      <td>9.920000</td>\n",
              "      <td>1.000000</td>\n",
              "      <td>0.97000</td>\n",
              "    </tr>\n",
              "  </tbody>\n",
              "</table>\n",
              "</div>"
            ],
            "text/plain": [
              "        GRE Score  TOEFL Score  University Rating         SOP       LOR   \\\n",
              "count  500.000000   500.000000         500.000000  500.000000  500.00000   \n",
              "mean   316.472000   107.192000           3.114000    3.374000    3.48400   \n",
              "std     11.295148     6.081868           1.143512    0.991004    0.92545   \n",
              "min    290.000000    92.000000           1.000000    1.000000    1.00000   \n",
              "25%    308.000000   103.000000           2.000000    2.500000    3.00000   \n",
              "50%    317.000000   107.000000           3.000000    3.500000    3.50000   \n",
              "75%    325.000000   112.000000           4.000000    4.000000    4.00000   \n",
              "max    340.000000   120.000000           5.000000    5.000000    5.00000   \n",
              "\n",
              "             CGPA    Research  Chance of Admit   \n",
              "count  500.000000  500.000000         500.00000  \n",
              "mean     8.576440    0.560000           0.72174  \n",
              "std      0.604813    0.496884           0.14114  \n",
              "min      6.800000    0.000000           0.34000  \n",
              "25%      8.127500    0.000000           0.63000  \n",
              "50%      8.560000    1.000000           0.72000  \n",
              "75%      9.040000    1.000000           0.82000  \n",
              "max      9.920000    1.000000           0.97000  "
            ]
          },
          "metadata": {
            "tags": []
          },
          "execution_count": 62
        }
      ]
    },
    {
      "metadata": {
        "id": "evgm2Ty_-30H",
        "colab_type": "text"
      },
      "cell_type": "markdown",
      "source": [
        "# Univariate Analysis"
      ]
    },
    {
      "metadata": {
        "id": "WuM8T2qi95OF",
        "colab_type": "code",
        "colab": {
          "base_uri": "https://localhost:8080/",
          "height": 350
        },
        "outputId": "44173633-6f5b-404b-824f-075b7de6c9ab"
      },
      "cell_type": "code",
      "source": [
        " \n",
        "se.countplot(x=\"University Rating\", data=df)\n"
      ],
      "execution_count": 63,
      "outputs": [
        {
          "output_type": "stream",
          "text": [
            "/usr/local/lib/python3.6/dist-packages/seaborn/categorical.py:1428: FutureWarning: remove_na is deprecated and is a private function. Do not use.\n",
            "  stat_data = remove_na(group_data)\n"
          ],
          "name": "stderr"
        },
        {
          "output_type": "execute_result",
          "data": {
            "text/plain": [
              "<matplotlib.axes._subplots.AxesSubplot at 0x7f19d8aa49b0>"
            ]
          },
          "metadata": {
            "tags": []
          },
          "execution_count": 63
        },
        {
          "output_type": "display_data",
          "data": {
            "image/png": "[encoded data removed]",
            "text/plain": [
              "<Figure size 432x288 with 1 Axes>"
            ]
          },
          "metadata": {
            "tags": []
          }
        }
      ]
    },
    {
      "metadata": {
        "id": "9Y8j3gen-7N9",
        "colab_type": "code",
        "colab": {
          "base_uri": "https://localhost:8080/",
          "height": 350
        },
        "outputId": "6a30dd1e-4661-47c8-e876-60af19f530ff"
      },
      "cell_type": "code",
      "source": [
        "se.countplot(x=\"SOP\", data=df)\n"
      ],
      "execution_count": 64,
      "outputs": [
        {
          "output_type": "stream",
          "text": [
            "/usr/local/lib/python3.6/dist-packages/seaborn/categorical.py:1428: FutureWarning: remove_na is deprecated and is a private function. Do not use.\n",
            "  stat_data = remove_na(group_data)\n"
          ],
          "name": "stderr"
        },
        {
          "output_type": "execute_result",
          "data": {
            "text/plain": [
              "<matplotlib.axes._subplots.AxesSubplot at 0x7f19d89c87b8>"
            ]
          },
          "metadata": {
            "tags": []
          },
          "execution_count": 64
        },
        {
          "output_type": "display_data",
          "data": {
            "image/png": "[encoded data removed]",
            "text/plain": [
              "<Figure size 432x288 with 1 Axes>"
            ]
          },
          "metadata": {
            "tags": []
          }
        }
      ]
    },
    {
      "metadata": {
        "id": "9AQHOJxC_DVo",
        "colab_type": "code",
        "colab": {
          "base_uri": "https://localhost:8080/",
          "height": 350
        },
        "outputId": "a7199904-5c4e-459f-c3fd-035e5ec6587d"
      },
      "cell_type": "code",
      "source": [
        "import matplotlib.pyplot as plt\n",
        "\n",
        "#se.scatterplot(x=\"University Rating\", y=\"TOEFL Score\", data=df)\n",
        "se.kdeplot(df['TOEFL Score'], shade=True);\n"
      ],
      "execution_count": 71,
      "outputs": [
        {
          "output_type": "display_data",
          "data": {
            "image/png": "[encoded data removed]",
            "text/plain": [
              "<Figure size 576x396 with 1 Axes>"
            ]
          },
          "metadata": {
            "tags": []
          }
        }
      ]
    },
    {
      "metadata": {
        "id": "YnVr6xPQ_vnR",
        "colab_type": "code",
        "colab": {
          "base_uri": "https://localhost:8080/",
          "height": 195
        },
        "outputId": "849bee87-416d-45f9-a956-46c09246cc52"
      },
      "cell_type": "code",
      "source": [
        "df.head()"
      ],
      "execution_count": 72,
      "outputs": [
        {
          "output_type": "execute_result",
          "data": {
            "text/html": [
              "<div>\n",
              "<style scoped>\n",
              "    .dataframe tbody tr th:only-of-type {\n",
              "        vertical-align: middle;\n",
              "    }\n",
              "\n",
              "    .dataframe tbody tr th {\n",
              "        vertical-align: top;\n",
              "    }\n",
              "\n",
              "    .dataframe thead th {\n",
              "        text-align: right;\n",
              "    }\n",
              "</style>\n",
              "<table border=\"1\" class=\"dataframe\">\n",
              "  <thead>\n",
              "    <tr style=\"text-align: right;\">\n",
              "      <th></th>\n",
              "      <th>GRE Score</th>\n",
              "      <th>TOEFL Score</th>\n",
              "      <th>University Rating</th>\n",
              "      <th>SOP</th>\n",
              "      <th>LOR</th>\n",
              "      <th>CGPA</th>\n",
              "      <th>Research</th>\n",
              "      <th>Chance of Admit</th>\n",
              "    </tr>\n",
              "  </thead>\n",
              "  <tbody>\n",
              "    <tr>\n",
              "      <th>0</th>\n",
              "      <td>337</td>\n",
              "      <td>118</td>\n",
              "      <td>4</td>\n",
              "      <td>4.5</td>\n",
              "      <td>4.5</td>\n",
              "      <td>9.65</td>\n",
              "      <td>1</td>\n",
              "      <td>0.92</td>\n",
              "    </tr>\n",
              "    <tr>\n",
              "      <th>1</th>\n",
              "      <td>324</td>\n",
              "      <td>107</td>\n",
              "      <td>4</td>\n",
              "      <td>4.0</td>\n",
              "      <td>4.5</td>\n",
              "      <td>8.87</td>\n",
              "      <td>1</td>\n",
              "      <td>0.76</td>\n",
              "    </tr>\n",
              "    <tr>\n",
              "      <th>2</th>\n",
              "      <td>316</td>\n",
              "      <td>104</td>\n",
              "      <td>3</td>\n",
              "      <td>3.0</td>\n",
              "      <td>3.5</td>\n",
              "      <td>8.00</td>\n",
              "      <td>1</td>\n",
              "      <td>0.72</td>\n",
              "    </tr>\n",
              "    <tr>\n",
              "      <th>3</th>\n",
              "      <td>322</td>\n",
              "      <td>110</td>\n",
              "      <td>3</td>\n",
              "      <td>3.5</td>\n",
              "      <td>2.5</td>\n",
              "      <td>8.67</td>\n",
              "      <td>1</td>\n",
              "      <td>0.80</td>\n",
              "    </tr>\n",
              "    <tr>\n",
              "      <th>4</th>\n",
              "      <td>314</td>\n",
              "      <td>103</td>\n",
              "      <td>2</td>\n",
              "      <td>2.0</td>\n",
              "      <td>3.0</td>\n",
              "      <td>8.21</td>\n",
              "      <td>0</td>\n",
              "      <td>0.65</td>\n",
              "    </tr>\n",
              "  </tbody>\n",
              "</table>\n",
              "</div>"
            ],
            "text/plain": [
              "   GRE Score  TOEFL Score  University Rating  SOP  LOR   CGPA  Research  \\\n",
              "0        337          118                  4  4.5   4.5  9.65         1   \n",
              "1        324          107                  4  4.0   4.5  8.87         1   \n",
              "2        316          104                  3  3.0   3.5  8.00         1   \n",
              "3        322          110                  3  3.5   2.5  8.67         1   \n",
              "4        314          103                  2  2.0   3.0  8.21         0   \n",
              "\n",
              "   Chance of Admit   \n",
              "0              0.92  \n",
              "1              0.76  \n",
              "2              0.72  \n",
              "3              0.80  \n",
              "4              0.65  "
            ]
          },
          "metadata": {
            "tags": []
          },
          "execution_count": 72
        }
      ]
    },
    {
      "metadata": {
        "id": "ZkkhvRwvBi0r",
        "colab_type": "code",
        "colab": {
          "base_uri": "https://localhost:8080/",
          "height": 67
        },
        "outputId": "114f0bfc-067a-45c5-c9af-efd694e39fcc"
      },
      "cell_type": "code",
      "source": [
        "df.columns"
      ],
      "execution_count": 76,
      "outputs": [
        {
          "output_type": "execute_result",
          "data": {
            "text/plain": [
              "Index(['GRE Score', 'TOEFL Score', 'University Rating', 'SOP', 'LOR ', 'CGPA',\n",
              "       'Research', 'Chance of Admit '],\n",
              "      dtype='object')"
            ]
          },
          "metadata": {
            "tags": []
          },
          "execution_count": 76
        }
      ]
    },
    {
      "metadata": {
        "id": "3KWlm2wDBBRW",
        "colab_type": "code",
        "colab": {}
      },
      "cell_type": "code",
      "source": [
        "target = df['Chance of Admit ']\n",
        "\n",
        "data = df.drop('Chance of Admit ', axis = 1)"
      ],
      "execution_count": 0,
      "outputs": []
    },
    {
      "metadata": {
        "id": "rl0yNqYgBOdT",
        "colab_type": "code",
        "colab": {
          "base_uri": "https://localhost:8080/",
          "height": 195
        },
        "outputId": "252b6499-39ce-45ff-9394-c1e0cb432619"
      },
      "cell_type": "code",
      "source": [
        "data.head()"
      ],
      "execution_count": 78,
      "outputs": [
        {
          "output_type": "execute_result",
          "data": {
            "text/html": [
              "<div>\n",
              "<style scoped>\n",
              "    .dataframe tbody tr th:only-of-type {\n",
              "        vertical-align: middle;\n",
              "    }\n",
              "\n",
              "    .dataframe tbody tr th {\n",
              "        vertical-align: top;\n",
              "    }\n",
              "\n",
              "    .dataframe thead th {\n",
              "        text-align: right;\n",
              "    }\n",
              "</style>\n",
              "<table border=\"1\" class=\"dataframe\">\n",
              "  <thead>\n",
              "    <tr style=\"text-align: right;\">\n",
              "      <th></th>\n",
              "      <th>GRE Score</th>\n",
              "      <th>TOEFL Score</th>\n",
              "      <th>University Rating</th>\n",
              "      <th>SOP</th>\n",
              "      <th>LOR</th>\n",
              "      <th>CGPA</th>\n",
              "      <th>Research</th>\n",
              "    </tr>\n",
              "  </thead>\n",
              "  <tbody>\n",
              "    <tr>\n",
              "      <th>0</th>\n",
              "      <td>337</td>\n",
              "      <td>118</td>\n",
              "      <td>4</td>\n",
              "      <td>4.5</td>\n",
              "      <td>4.5</td>\n",
              "      <td>9.65</td>\n",
              "      <td>1</td>\n",
              "    </tr>\n",
              "    <tr>\n",
              "      <th>1</th>\n",
              "      <td>324</td>\n",
              "      <td>107</td>\n",
              "      <td>4</td>\n",
              "      <td>4.0</td>\n",
              "      <td>4.5</td>\n",
              "      <td>8.87</td>\n",
              "      <td>1</td>\n",
              "    </tr>\n",
              "    <tr>\n",
              "      <th>2</th>\n",
              "      <td>316</td>\n",
              "      <td>104</td>\n",
              "      <td>3</td>\n",
              "      <td>3.0</td>\n",
              "      <td>3.5</td>\n",
              "      <td>8.00</td>\n",
              "      <td>1</td>\n",
              "    </tr>\n",
              "    <tr>\n",
              "      <th>3</th>\n",
              "      <td>322</td>\n",
              "      <td>110</td>\n",
              "      <td>3</td>\n",
              "      <td>3.5</td>\n",
              "      <td>2.5</td>\n",
              "      <td>8.67</td>\n",
              "      <td>1</td>\n",
              "    </tr>\n",
              "    <tr>\n",
              "      <th>4</th>\n",
              "      <td>314</td>\n",
              "      <td>103</td>\n",
              "      <td>2</td>\n",
              "      <td>2.0</td>\n",
              "      <td>3.0</td>\n",
              "      <td>8.21</td>\n",
              "      <td>0</td>\n",
              "    </tr>\n",
              "  </tbody>\n",
              "</table>\n",
              "</div>"
            ],
            "text/plain": [
              "   GRE Score  TOEFL Score  University Rating  SOP  LOR   CGPA  Research\n",
              "0        337          118                  4  4.5   4.5  9.65         1\n",
              "1        324          107                  4  4.0   4.5  8.87         1\n",
              "2        316          104                  3  3.0   3.5  8.00         1\n",
              "3        322          110                  3  3.5   2.5  8.67         1\n",
              "4        314          103                  2  2.0   3.0  8.21         0"
            ]
          },
          "metadata": {
            "tags": []
          },
          "execution_count": 78
        }
      ]
    },
    {
      "metadata": {
        "id": "L2fxiobkBqOZ",
        "colab_type": "code",
        "colab": {}
      },
      "cell_type": "code",
      "source": [
        "X_train, X_test, y_train, y_test = train_test_split(data, target, test_size=0.30, random_state=42)"
      ],
      "execution_count": 0,
      "outputs": []
    },
    {
      "metadata": {
        "id": "RMLpikiFC1JD",
        "colab_type": "code",
        "colab": {}
      },
      "cell_type": "code",
      "source": [
        "X_train"
      ],
      "execution_count": 0,
      "outputs": []
    },
    {
      "metadata": {
        "id": "QQgXmKBaB9on",
        "colab_type": "code",
        "colab": {
          "base_uri": "https://localhost:8080/",
          "height": 138
        },
        "outputId": "fde0eca6-2162-4c05-c16c-85164018a745"
      },
      "cell_type": "code",
      "source": [
        "from sklearn.preprocessing import StandardScaler\n",
        "\n",
        "\n",
        "scaler = StandardScaler()\n",
        "\n",
        "scaler.fit(X_train)\n",
        "\n",
        "# Only fit the training set and then transform both sets\n",
        "scaled_X_train = scaler.transform(X_train)\n",
        "scaled_X_test = scaler.transform(X_test)\n",
        "\n"
      ],
      "execution_count": 81,
      "outputs": [
        {
          "output_type": "stream",
          "text": [
            "/usr/local/lib/python3.6/dist-packages/sklearn/preprocessing/data.py:645: DataConversionWarning: Data with input dtype int64, float64 were all converted to float64 by StandardScaler.\n",
            "  return self.partial_fit(X, y)\n",
            "/usr/local/lib/python3.6/dist-packages/ipykernel_launcher.py:9: DataConversionWarning: Data with input dtype int64, float64 were all converted to float64 by StandardScaler.\n",
            "  if __name__ == '__main__':\n",
            "/usr/local/lib/python3.6/dist-packages/ipykernel_launcher.py:10: DataConversionWarning: Data with input dtype int64, float64 were all converted to float64 by StandardScaler.\n",
            "  # Remove the CWD from sys.path while we load stuff.\n"
          ],
          "name": "stderr"
        }
      ]
    },
    {
      "metadata": {
        "id": "iKjSChDkB9_a",
        "colab_type": "code",
        "colab": {
          "base_uri": "https://localhost:8080/",
          "height": 235
        },
        "outputId": "4be6c85d-4821-4ce5-ec6f-70eebad9e4a6"
      },
      "cell_type": "code",
      "source": [
        "scaled_X_train"
      ],
      "execution_count": 82,
      "outputs": [
        {
          "output_type": "execute_result",
          "data": {
            "text/plain": [
              "array([[ 1.22318504,  1.27980924,  1.64786882, ..., -0.5291228 ,\n",
              "         1.28550609,  0.88127734],\n",
              "       [-1.61322396, -0.86815536, -0.08412544, ...,  0.01556244,\n",
              "         0.07349047, -1.13471657],\n",
              "       [ 0.49120853,  0.45366901,  1.64786882, ...,  0.56024767,\n",
              "         0.88150088,  0.88127734],\n",
              "       ...,\n",
              "       [-1.33873276, -1.3638395 , -1.81611969, ..., -1.61849327,\n",
              "        -2.23270591, -1.13471657],\n",
              "       [-0.69825331, -0.37247122, -0.95012256, ...,  0.56024767,\n",
              "        -1.50886325, -1.13471657],\n",
              "       [-0.24076799, -0.20724318, -0.95012256, ...,  0.01556244,\n",
              "        -0.54935089, -1.13471657]])"
            ]
          },
          "metadata": {
            "tags": []
          },
          "execution_count": 82
        }
      ]
    },
    {
      "metadata": {
        "id": "IaVpQTSODDYf",
        "colab_type": "code",
        "colab": {
          "base_uri": "https://localhost:8080/",
          "height": 50
        },
        "outputId": "51ebf9bb-429a-4031-9904-184ccc9d88ca"
      },
      "cell_type": "code",
      "source": [
        "from sklearn.svm import SVR\n",
        "\n",
        "svr = SVR(gamma='scale', C=1.0, epsilon=0.2)\n",
        "\n",
        "svr.fit(scaled_X_train, y_train)"
      ],
      "execution_count": 83,
      "outputs": [
        {
          "output_type": "execute_result",
          "data": {
            "text/plain": [
              "SVR(C=1.0, cache_size=200, coef0=0.0, degree=3, epsilon=0.2, gamma='scale',\n",
              "  kernel='rbf', max_iter=-1, shrinking=True, tol=0.001, verbose=False)"
            ]
          },
          "metadata": {
            "tags": []
          },
          "execution_count": 83
        }
      ]
    },
    {
      "metadata": {
        "id": "GT-ilv0-Dfjl",
        "colab_type": "code",
        "colab": {
          "base_uri": "https://localhost:8080/",
          "height": 34
        },
        "outputId": "85663560-6de9-4cba-a0bf-4fff3f460db8"
      },
      "cell_type": "code",
      "source": [
        "from sklearn.metrics import mean_absolute_error\n",
        "\n",
        "pred_y = svr.predict(X_test)\n",
        "\n",
        "mean_absolute_error(y_test, pred_y)"
      ],
      "execution_count": 84,
      "outputs": [
        {
          "output_type": "execute_result",
          "data": {
            "text/plain": [
              "0.13311261843804945"
            ]
          },
          "metadata": {
            "tags": []
          },
          "execution_count": 84
        }
      ]
    },
    {
      "metadata": {
        "id": "OJThCSj0Do7Z",
        "colab_type": "code",
        "colab": {
          "base_uri": "https://localhost:8080/",
          "height": 34
        },
        "outputId": "4eb7cc93-3e23-4e3f-ac97-5b61a2508658"
      },
      "cell_type": "code",
      "source": [
        "from sklearn.metrics import mean_squared_error\n",
        "\n",
        "mean_squared_error(y_test, pred_y)"
      ],
      "execution_count": 86,
      "outputs": [
        {
          "output_type": "execute_result",
          "data": {
            "text/plain": [
              "0.026424375430231076"
            ]
          },
          "metadata": {
            "tags": []
          },
          "execution_count": 86
        }
      ]
    },
    {
      "metadata": {
        "id": "mtk9n-e1Do-M",
        "colab_type": "code",
        "colab": {
          "base_uri": "https://localhost:8080/",
          "height": 34
        },
        "outputId": "7c9a24d6-1e88-40a9-de4f-00312de8381b"
      },
      "cell_type": "code",
      "source": [
        "from joblib import dump, load\n",
        "\n",
        "dump(svr, 'svr v0.01.pkl') "
      ],
      "execution_count": 87,
      "outputs": [
        {
          "output_type": "execute_result",
          "data": {
            "text/plain": [
              "['svr v0.01.pkl']"
            ]
          },
          "metadata": {
            "tags": []
          },
          "execution_count": 87
        }
      ]
    },
    {
      "metadata": {
        "id": "0YPoADAADpBa",
        "colab_type": "code",
        "colab": {}
      },
      "cell_type": "code",
      "source": [
        ""
      ],
      "execution_count": 0,
      "outputs": []
    },
    {
      "metadata": {
        "id": "iSMX0WnWDpFx",
        "colab_type": "code",
        "colab": {}
      },
      "cell_type": "code",
      "source": [
        ""
      ],
      "execution_count": 0,
      "outputs": []
    }
  ]
}