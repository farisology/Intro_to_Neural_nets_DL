{
  "nbformat": 4,
  "nbformat_minor": 0,
  "metadata": {
    "colab": {
      "name": "CNN & tensorboard.ipynb",
      "version": "0.3.2",
      "provenance": []
    },
    "kernelspec": {
      "name": "python3",
      "display_name": "Python 3"
    }
  },
  "cells": [
    {
      "metadata": {
        "id": "ndDe6DsYxSWr",
        "colab_type": "text"
      },
      "cell_type": "markdown",
      "source": [
        "# Fully connected Neural network in KERAS"
      ]
    },
    {
      "metadata": {
        "id": "iko_vkmwwLRC",
        "colab_type": "code",
        "colab": {}
      },
      "cell_type": "code",
      "source": [
        "import keras\n",
        "from keras.datasets import mnist\n",
        "from keras.models import Sequential\n",
        "from keras.layers import Dense, Dropout, Flatten, Conv2D, MaxPooling2D\n",
        "from keras.utils import np_utils\n",
        "import numpy as np"
      ],
      "execution_count": 0,
      "outputs": []
    },
    {
      "metadata": {
        "id": "0OlpIT6FyHNc",
        "colab_type": "code",
        "colab": {
          "base_uri": "https://localhost:8080/",
          "height": 69
        },
        "outputId": "efa0cc02-86ec-4017-99ec-922fb4340911"
      },
      "cell_type": "code",
      "source": [
        "batch_size = 128\n",
        "num_classes = 10\n",
        "epochs = 12\n",
        "\n",
        "# input image dimensions\n",
        "img_rows, img_cols = 28, 28\n",
        "\n",
        "# the data, split between train and test sets\n",
        "(x_train, y_train), (x_test, y_test) = mnist.load_data()\n",
        "\n",
        "x_train = x_train.reshape(60000,28,28,1)\n",
        "x_test = x_test.reshape(10000,28,28,1)\n",
        "\n",
        "print('x_train shape:', x_train.shape)\n",
        "print(x_train.shape[0], 'train samples')\n",
        "print(x_test.shape[0], 'test samples')\n",
        "\n",
        "# convert class vectors to binary class matrices\n",
        "y_train = keras.utils.to_categorical(y_train, num_classes)\n",
        "y_test = keras.utils.to_categorical(y_test, num_classes)"
      ],
      "execution_count": 47,
      "outputs": [
        {
          "output_type": "stream",
          "text": [
            "x_train shape: (60000, 28, 28, 1)\n",
            "60000 train samples\n",
            "10000 test samples\n"
          ],
          "name": "stdout"
        }
      ]
    },
    {
      "metadata": {
        "id": "AhGsv2nA4BfJ",
        "colab_type": "text"
      },
      "cell_type": "markdown",
      "source": [
        "## CNN Architeacture"
      ]
    },
    {
      "metadata": {
        "id": "1zqAVKz6yrC9",
        "colab_type": "code",
        "colab": {
          "base_uri": "https://localhost:8080/",
          "height": 488
        },
        "outputId": "ae02dc76-f3fa-4c14-9a53-1deea89b5a9c"
      },
      "cell_type": "code",
      "source": [
        "model = Sequential()\n",
        "model.add(Conv2D(32, kernel_size=(3, 3),\n",
        "                 activation='relu',\n",
        "                 input_shape=(28,28,1)))\n",
        "model.add(Conv2D(64, (3, 3), activation='relu'))\n",
        "model.add(MaxPooling2D(pool_size=(2, 2)))\n",
        "model.add(Dropout(0.25))\n",
        "model.add(Flatten())\n",
        "model.add(Dense(128, activation='relu'))\n",
        "model.add(Dropout(0.5))\n",
        "model.add(Dense(num_classes, activation='softmax'))\n",
        "model.compile(loss=keras.losses.categorical_crossentropy,\n",
        "              optimizer=keras.optimizers.Adadelta(),\n",
        "              metrics=['accuracy'])\n",
        "\n",
        "model.summary()"
      ],
      "execution_count": 48,
      "outputs": [
        {
          "output_type": "stream",
          "text": [
            "WARNING:tensorflow:From /usr/local/lib/python3.6/dist-packages/keras/backend/tensorflow_backend.py:3445: calling dropout (from tensorflow.python.ops.nn_ops) with keep_prob is deprecated and will be removed in a future version.\n",
            "Instructions for updating:\n",
            "Please use `rate` instead of `keep_prob`. Rate should be set to `rate = 1 - keep_prob`.\n",
            "_________________________________________________________________\n",
            "Layer (type)                 Output Shape              Param #   \n",
            "=================================================================\n",
            "conv2d_18 (Conv2D)           (None, 26, 26, 32)        320       \n",
            "_________________________________________________________________\n",
            "conv2d_19 (Conv2D)           (None, 24, 24, 64)        18496     \n",
            "_________________________________________________________________\n",
            "max_pooling2d_4 (MaxPooling2 (None, 12, 12, 64)        0         \n",
            "_________________________________________________________________\n",
            "dropout_1 (Dropout)          (None, 12, 12, 64)        0         \n",
            "_________________________________________________________________\n",
            "flatten_1 (Flatten)          (None, 9216)              0         \n",
            "_________________________________________________________________\n",
            "dense_1 (Dense)              (None, 128)               1179776   \n",
            "_________________________________________________________________\n",
            "dropout_2 (Dropout)          (None, 128)               0         \n",
            "_________________________________________________________________\n",
            "dense_2 (Dense)              (None, 10)                1290      \n",
            "=================================================================\n",
            "Total params: 1,199,882\n",
            "Trainable params: 1,199,882\n",
            "Non-trainable params: 0\n",
            "_________________________________________________________________\n"
          ],
          "name": "stdout"
        }
      ]
    },
    {
      "metadata": {
        "id": "B-y5dphXyrGQ",
        "colab_type": "code",
        "colab": {
          "base_uri": "https://localhost:8080/",
          "height": 557
        },
        "outputId": "b7b20faf-ca5e-4f40-efd3-84cc04b944a6"
      },
      "cell_type": "code",
      "source": [
        "model.fit(x_train, y_train,\n",
        "          batch_size=batch_size,\n",
        "          epochs=epochs,\n",
        "          verbose=1,\n",
        "          validation_data=(x_test, y_test))\n",
        "score = model.evaluate(x_test, y_test, verbose=0)\n",
        "print('Test loss:', score[0])\n",
        "print('Test accuracy:', score[1])"
      ],
      "execution_count": 49,
      "outputs": [
        {
          "output_type": "stream",
          "text": [
            "WARNING:tensorflow:From /usr/local/lib/python3.6/dist-packages/tensorflow/python/ops/math_ops.py:3066: to_int32 (from tensorflow.python.ops.math_ops) is deprecated and will be removed in a future version.\n",
            "Instructions for updating:\n",
            "Use tf.cast instead.\n",
            "Train on 60000 samples, validate on 10000 samples\n",
            "Epoch 1/12\n",
            "60000/60000 [==============================] - 179s 3ms/step - loss: 0.9367 - acc: 0.8830 - val_loss: 0.0661 - val_acc: 0.9797\n",
            "Epoch 2/12\n",
            "60000/60000 [==============================] - 182s 3ms/step - loss: 0.1080 - acc: 0.9688 - val_loss: 0.0492 - val_acc: 0.9861\n",
            "Epoch 3/12\n",
            "60000/60000 [==============================] - 181s 3ms/step - loss: 0.0774 - acc: 0.9770 - val_loss: 0.0446 - val_acc: 0.9865\n",
            "Epoch 4/12\n",
            "60000/60000 [==============================] - 180s 3ms/step - loss: 0.0630 - acc: 0.9816 - val_loss: 0.0386 - val_acc: 0.9882\n",
            "Epoch 5/12\n",
            "60000/60000 [==============================] - 174s 3ms/step - loss: 0.0528 - acc: 0.9845 - val_loss: 0.0397 - val_acc: 0.9884\n",
            "Epoch 6/12\n",
            "60000/60000 [==============================] - 174s 3ms/step - loss: 0.0451 - acc: 0.9865 - val_loss: 0.0337 - val_acc: 0.9896\n",
            "Epoch 7/12\n",
            "60000/60000 [==============================] - 174s 3ms/step - loss: 0.0414 - acc: 0.9879 - val_loss: 0.0331 - val_acc: 0.9899\n",
            "Epoch 8/12\n",
            "60000/60000 [==============================] - 174s 3ms/step - loss: 0.0355 - acc: 0.9896 - val_loss: 0.0334 - val_acc: 0.9905\n",
            "Epoch 9/12\n",
            "60000/60000 [==============================] - 173s 3ms/step - loss: 0.0332 - acc: 0.9903 - val_loss: 0.0368 - val_acc: 0.9898\n",
            "Epoch 10/12\n",
            "60000/60000 [==============================] - 175s 3ms/step - loss: 0.0297 - acc: 0.9906 - val_loss: 0.0354 - val_acc: 0.9902\n",
            "Epoch 11/12\n",
            "60000/60000 [==============================] - 175s 3ms/step - loss: 0.0272 - acc: 0.9918 - val_loss: 0.0328 - val_acc: 0.9906\n",
            "Epoch 12/12\n",
            "60000/60000 [==============================] - 177s 3ms/step - loss: 0.0254 - acc: 0.9924 - val_loss: 0.0307 - val_acc: 0.9909\n",
            "Test loss: 0.030693981558448696\n",
            "Test accuracy: 0.9909\n"
          ],
          "name": "stdout"
        }
      ]
    },
    {
      "metadata": {
        "id": "b3TXkf2RyrJi",
        "colab_type": "code",
        "colab": {
          "base_uri": "https://localhost:8080/",
          "height": 35
        },
        "outputId": "1bfd2664-2a31-4afe-c2c8-3cd760a87ede"
      },
      "cell_type": "code",
      "source": [
        "mycnn.input_shape"
      ],
      "execution_count": 45,
      "outputs": [
        {
          "output_type": "execute_result",
          "data": {
            "text/plain": [
              "(None, 28, 28, 1)"
            ]
          },
          "metadata": {
            "tags": []
          },
          "execution_count": 45
        }
      ]
    },
    {
      "metadata": {
        "id": "ZkZPuWdkHljX",
        "colab_type": "code",
        "colab": {
          "base_uri": "https://localhost:8080/",
          "height": 35
        },
        "outputId": "56231a50-38d9-4ad8-88b4-b5c69b580733"
      },
      "cell_type": "code",
      "source": [
        "train_data.shape"
      ],
      "execution_count": 46,
      "outputs": [
        {
          "output_type": "execute_result",
          "data": {
            "text/plain": [
              "(60000, 28, 28, 1)"
            ]
          },
          "metadata": {
            "tags": []
          },
          "execution_count": 46
        }
      ]
    },
    {
      "metadata": {
        "id": "_JQEbit7ZaBY",
        "colab_type": "text"
      },
      "cell_type": "markdown",
      "source": [
        "## Reading image into python env."
      ]
    },
    {
      "metadata": {
        "id": "Y7ddZZBoHn0g",
        "colab_type": "code",
        "colab": {}
      },
      "cell_type": "code",
      "source": [
        "import numpy as np\n",
        "from matplotlib import pyplot as plt\n",
        "from skimage import color\n",
        "from skimage import io\n",
        "from skimage.color import rgb2gray\n",
        "import cv2 as cv\n",
        "\n",
        "%matplotlib inline"
      ],
      "execution_count": 0,
      "outputs": []
    },
    {
      "metadata": {
        "id": "PlIBghmVY6yv",
        "colab_type": "code",
        "colab": {}
      },
      "cell_type": "code",
      "source": [
        "img = cv.imread('SoftmaxLayer.png')"
      ],
      "execution_count": 0,
      "outputs": []
    },
    {
      "metadata": {
        "id": "yK66DnwhY61X",
        "colab_type": "code",
        "colab": {
          "base_uri": "https://localhost:8080/",
          "height": 287
        },
        "outputId": "58eede65-136a-4206-dcd9-5ae9431dc257"
      },
      "cell_type": "code",
      "source": [
        "plt.imshow(img)"
      ],
      "execution_count": 55,
      "outputs": [
        {
          "output_type": "execute_result",
          "data": {
            "text/plain": [
              "<matplotlib.image.AxesImage at 0x7f0ab53d51d0>"
            ]
          },
          "metadata": {
            "tags": []
          },
          "execution_count": 55
        },
        {
          "output_type": "display_data",
          "data": {
            "image/png": "[encoded data removed]",
            "text/plain": [
              "<Figure size 432x288 with 1 Axes>"
            ]
          },
          "metadata": {
            "tags": []
          }
        }
      ]
    },
    {
      "metadata": {
        "id": "w9Lpp1hdrPGX",
        "colab_type": "text"
      },
      "cell_type": "markdown",
      "source": [
        "## Sentument Analysis with IMDB"
      ]
    },
    {
      "metadata": {
        "id": "V-Zd_wEmY6vn",
        "colab_type": "code",
        "colab": {}
      },
      "cell_type": "code",
      "source": [
        "import numpy as np\n",
        "import keras as k\n",
        "import tensorflow as tf\n",
        "from keras.models import load_model\n",
        "import os\n",
        "\n",
        "os.environ['TF_CPP_MIN_LOG_LEVEL'] = '2'"
      ],
      "execution_count": 0,
      "outputs": []
    },
    {
      "metadata": {
        "id": "KjVBFM9BvqT9",
        "colab_type": "code",
        "colab": {
          "base_uri": "https://localhost:8080/",
          "height": 52
        },
        "outputId": "3fa2d0ea-c254-4859-f4c6-0083629dbc1a"
      },
      "cell_type": "code",
      "source": [
        "np.random.seed(1)\n",
        "tf.set_random_seed(1)\n",
        "\n",
        "\n",
        "\n",
        "max_words = 50000\n",
        "\n",
        "(xtrain, ytrain), (xtest, ytest) = k.datasets.imdb.load_data(seed =1, num_words = max_words)"
      ],
      "execution_count": 58,
      "outputs": [
        {
          "output_type": "stream",
          "text": [
            "Downloading data from https://s3.amazonaws.com/text-datasets/imdb.npz\n",
            "17465344/17464789 [==============================] - 0s 0us/step\n"
          ],
          "name": "stdout"
        }
      ]
    },
    {
      "metadata": {
        "id": "0E5Ovo7CxN7y",
        "colab_type": "text"
      },
      "cell_type": "markdown",
      "source": [
        "## Preprocssing:\n",
        "\n",
        "\n",
        "*   Convert everything into lower-case.\n",
        "*   Remove all punctuation characters. (except single case)\n",
        "*\n",
        "\n"
      ]
    },
    {
      "metadata": {
        "id": "LTRRosaYxHtr",
        "colab_type": "code",
        "colab": {}
      },
      "cell_type": "code",
      "source": [
        "max_review_len = 180\n",
        "\n",
        "xtrain = k.preprocessing.sequence.pad_sequences(xtrain, truncating = 'pre', padding = 'pre', maxlen = max_review_len)\n",
        "\n",
        "xtest = k.preprocessing.sequence.pad_sequences(xtest, truncating = 'pre', padding = 'pre', maxlen = max_review_len)"
      ],
      "execution_count": 0,
      "outputs": []
    },
    {
      "metadata": {
        "id": "zWHwao-wxHw4",
        "colab_type": "code",
        "colab": {}
      },
      "cell_type": "code",
      "source": [
        "def mylstm(act_func):\n",
        "  print('Creating Deep LSTM model with activation function = ', act_func)\n",
        "  e_init = k.initializers.RandomUniform(-0.01, 0.01, seed =1)\n",
        "  init = k.initializers.glorot_uniform(seed = 1)\n",
        "  simple_adam = k.optimizers.Adam()\n",
        "  embed_vec_len = 180 # values per word -- 100-500 is typical\n",
        "  \n",
        "  model = k.Sequential()\n",
        "  model.add(k.layers.embeddings.Embedding(input_dim = max_words, output_dim = embed_vec_len, embeddings_initializer = e_init, mask_zero = True))\n",
        "  model.add(k.layers.LSTM(units = 100, kernel_initializer = init, dropout = 0.2, recurrent_dropout = 0.2))\n",
        "  \n",
        "  model.add(k.layers.Dense(units = 1, kernel_initializer = init, activation = act_func))\n",
        "  \n",
        "  model.compile(loss = 'binary_crossentropy', optimizer = simple_adam, metrics = ['acc'])\n",
        "  \n",
        "  return model"
      ],
      "execution_count": 0,
      "outputs": []
    },
    {
      "metadata": {
        "id": "jP4v4LWMxHzj",
        "colab_type": "code",
        "colab": {
          "base_uri": "https://localhost:8080/",
          "height": 69
        },
        "outputId": "b872c829-5a01-4215-9966-3c88e9f1ad5a"
      },
      "cell_type": "code",
      "source": [
        "siglstm = mylstm('sigmoid')\n",
        "relstm = mylstm('relu')\n",
        "softlstm = mylstm('softmax')\n"
      ],
      "execution_count": 63,
      "outputs": [
        {
          "output_type": "stream",
          "text": [
            "Creating Deep LSTM model with activation function =  sigmoid\n",
            "Creating Deep LSTM model with activation function =  relu\n",
            "Creating Deep LSTM model with activation function =  softmax\n"
          ],
          "name": "stdout"
        }
      ]
    },
    {
      "metadata": {
        "id": "vbo_zxEixH6x",
        "colab_type": "code",
        "colab": {
          "base_uri": "https://localhost:8080/",
          "height": 243
        },
        "outputId": "68242d66-b8db-46bc-9d81-28cced552029"
      },
      "cell_type": "code",
      "source": [
        "siglstm.summary()"
      ],
      "execution_count": 64,
      "outputs": [
        {
          "output_type": "stream",
          "text": [
            "_________________________________________________________________\n",
            "Layer (type)                 Output Shape              Param #   \n",
            "=================================================================\n",
            "embedding_4 (Embedding)      (None, None, 180)         9000000   \n",
            "_________________________________________________________________\n",
            "lstm_4 (LSTM)                (None, 100)               112400    \n",
            "_________________________________________________________________\n",
            "dense_6 (Dense)              (None, 1)                 101       \n",
            "=================================================================\n",
            "Total params: 9,112,501\n",
            "Trainable params: 9,112,501\n",
            "Non-trainable params: 0\n",
            "_________________________________________________________________\n"
          ],
          "name": "stdout"
        }
      ]
    },
    {
      "metadata": {
        "id": "eO1UnYu4xH93",
        "colab_type": "code",
        "colab": {
          "base_uri": "https://localhost:8080/",
          "height": 193
        },
        "outputId": "8092ee5b-ad5d-4b66-bb1a-fee62b818400"
      },
      "cell_type": "code",
      "source": [
        "bat_size = 32\n",
        "\n",
        "siglstm.fit(xtrain, ytrain, epochs = 4,batch_size =  bat_size, verbose = 1)"
      ],
      "execution_count": 66,
      "outputs": [
        {
          "output_type": "stream",
          "text": [
            "Epoch 1/4\n",
            "25000/25000 [==============================] - 439s 18ms/step - loss: 0.3938 - acc: 0.8294\n",
            "Epoch 2/4\n",
            "25000/25000 [==============================] - 441s 18ms/step - loss: 0.2623 - acc: 0.8980\n",
            "Epoch 3/4\n",
            "25000/25000 [==============================] - 444s 18ms/step - loss: 0.1782 - acc: 0.9351\n",
            "Epoch 4/4\n",
            "25000/25000 [==============================] - 438s 18ms/step - loss: 0.1124 - acc: 0.9607\n"
          ],
          "name": "stdout"
        },
        {
          "output_type": "execute_result",
          "data": {
            "text/plain": [
              "<keras.callbacks.History at 0x7f0ab09080f0>"
            ]
          },
          "metadata": {
            "tags": []
          },
          "execution_count": 66
        }
      ]
    },
    {
      "metadata": {
        "id": "HJpSxvZvxIBR",
        "colab_type": "code",
        "colab": {}
      },
      "cell_type": "code",
      "source": [
        "loss_acc = siglstm.evaluate(xtest, ytest, verbose = 1)\n",
        "\n",
        "print('Test Data: loss = %0.6f accuracy = %0.2f%%' % (loss_acc[0], loss_acc[1]*100))"
      ],
      "execution_count": 0,
      "outputs": []
    },
    {
      "metadata": {
        "id": "hJTBJs2uxID0",
        "colab_type": "code",
        "colab": {}
      },
      "cell_type": "code",
      "source": [
        "d = k.datasets.imdb.get_word_index()\n",
        "\n",
        "review = 'that was awfully smart'\n",
        "\n",
        "words = review.split()\n",
        "review = []\n",
        "for word in words:\n",
        "  if word not in d:\n",
        "    review.append(2)\n",
        "    \n",
        "  else:\n",
        "    review.append(d[word]+3)\n",
        "    \n",
        "review = k.preprocessing.sequence.pad_sequences([review], truncating = 'pre', padding = 'pre', maxlen = max_review_len)\n",
        "\n"
      ],
      "execution_count": 0,
      "outputs": []
    },
    {
      "metadata": {
        "id": "bnMeXawGKr8b",
        "colab_type": "code",
        "colab": {
          "base_uri": "https://localhost:8080/",
          "height": 35
        },
        "outputId": "7029de97-d4d7-4b99-af64-e49c3c2fbffd"
      },
      "cell_type": "code",
      "source": [
        "siglstm.predict(review)"
      ],
      "execution_count": 72,
      "outputs": [
        {
          "output_type": "execute_result",
          "data": {
            "text/plain": [
              "array([[0.04344685]], dtype=float32)"
            ]
          },
          "metadata": {
            "tags": []
          },
          "execution_count": 72
        }
      ]
    },
    {
      "metadata": {
        "id": "vcxljQ6iMziP",
        "colab_type": "text"
      },
      "cell_type": "markdown",
      "source": [
        "[CIFAR-10 tutorail](https://appliedmachinelearning.blog/2018/03/24/achieving-90-accuracy-in-object-recognition-task-on-cifar-10-dataset-with-keras-convolutional-neural-networks/)"
      ]
    },
    {
      "metadata": {
        "id": "58X0mucxKsDO",
        "colab_type": "code",
        "colab": {}
      },
      "cell_type": "code",
      "source": [
        ""
      ],
      "execution_count": 0,
      "outputs": []
    }
  ]
}