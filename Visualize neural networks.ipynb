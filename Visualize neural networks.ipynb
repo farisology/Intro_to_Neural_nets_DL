{
 "cells": [
  {
   "cell_type": "code",
   "execution_count": 1,
   "metadata": {},
   "outputs": [
    {
     "name": "stderr",
     "output_type": "stream",
     "text": [
      "Using TensorFlow backend.\n",
      "/anaconda3/lib/python3.6/site-packages/ipykernel_launcher.py:20: UserWarning: Update your `Conv2D` call to the Keras 2 API: `Conv2D(32, (3, 3), input_shape=(28, 28, 1...)`\n",
      "/anaconda3/lib/python3.6/site-packages/ipykernel_launcher.py:23: UserWarning: Update your `Conv2D` call to the Keras 2 API: `Conv2D(32, (3, 3))`\n",
      "/anaconda3/lib/python3.6/site-packages/ipykernel_launcher.py:28: UserWarning: Update your `Conv2D` call to the Keras 2 API: `Conv2D(64, (3, 3))`\n",
      "/anaconda3/lib/python3.6/site-packages/ipykernel_launcher.py:31: UserWarning: Update your `Conv2D` call to the Keras 2 API: `Conv2D(64, (3, 3))`\n"
     ]
    }
   ],
   "source": [
    "import tensorflow as tf\n",
    "from tensorflow import Graph, Session\n",
    "\n",
    "from keras.datasets import mnist\n",
    "from keras.models import Sequential\n",
    "from keras.layers.core import Dense, Dropout, Activation, Flatten\n",
    "from keras.utils import np_utils\n",
    "from keras.layers.convolutional import Conv2D\n",
    "from keras.layers.normalization import BatchNormalization\n",
    "from keras.layers import MaxPooling3D, MaxPooling2D\n",
    "\n",
    "graph = tf.Graph()\n",
    "\n",
    "def build_model():\n",
    "    with graph.as_default():\n",
    "        session1 = Session()\n",
    "        with session1.as_default():\n",
    "            model = Sequential()\n",
    "\n",
    "            model.add(Conv2D(32, 3, 3, input_shape=(28,28,1)))\n",
    "            model.add(Activation('relu'))\n",
    "            BatchNormalization(axis=1)\n",
    "            model.add(Conv2D(32,3,3))\n",
    "            model.add(Activation('relu'))\n",
    "            model.add(MaxPooling2D(pool_size=(2,2)))\n",
    "\n",
    "            BatchNormalization(axis=1)\n",
    "            model.add(Conv2D(64,3,3))\n",
    "            model.add(Activation('relu'))\n",
    "            BatchNormalization(axis=1)\n",
    "            model.add(Conv2D(64,3,3))\n",
    "            model.add(Activation('relu'))\n",
    "            model.add(MaxPooling2D(pool_size=(2,2)))\n",
    "\n",
    "            model.add(Flatten())\n",
    "            # Fully connected layer\n",
    "\n",
    "            BatchNormalization()\n",
    "            model.add(Dense(512))\n",
    "            model.add(Activation('relu'))\n",
    "            BatchNormalization()\n",
    "            model.add(Dropout(0.5))\n",
    "            model.add(Dense(10))\n",
    "\n",
    "            # model.add(Convolution2D(10,3,3, border_mode='same'))\n",
    "            # model.add(GlobalAveragePooling2D())\n",
    "            model.add(Activation('softmax'))\n",
    "    \n",
    "    return model\n",
    "\n",
    "m = build_model()  # Your model implementation\n",
    "\n",
    "with graph.as_default():\n",
    "  # compile method actually creates the model in the graph.\n",
    "  m.compile(loss='categorical_crossentropy', optimizer='adam', metrics=['accuracy'])\n",
    "    \n",
    "writer = tf.summary.FileWriter(logdir='CNN', graph=graph)\n",
    "writer.flush()"
   ]
  },
  {
   "cell_type": "code",
   "execution_count": 2,
   "metadata": {},
   "outputs": [
    {
     "name": "stdout",
     "output_type": "stream",
     "text": [
      "TensorBoard 1.12.0 at http://farisologys-MacBook-Pro.local:6006 (Press CTRL+C to quit)\n",
      "^C\n"
     ]
    }
   ],
   "source": [
    "# in terminal run:\n",
    "!tensorboard --logdir CNN"
   ]
  },
  {
   "cell_type": "code",
   "execution_count": null,
   "metadata": {},
   "outputs": [],
   "source": []
  },
  {
   "cell_type": "code",
   "execution_count": null,
   "metadata": {},
   "outputs": [],
   "source": []
  },
  {
   "cell_type": "code",
   "execution_count": null,
   "metadata": {},
   "outputs": [],
   "source": []
  }
 ],
 "metadata": {
  "kernelspec": {
   "display_name": "Python 3",
   "language": "python",
   "name": "python3"
  },
  "language_info": {
   "codemirror_mode": {
    "name": "ipython",
    "version": 3
   },
   "file_extension": ".py",
   "mimetype": "text/x-python",
   "name": "python",
   "nbconvert_exporter": "python",
   "pygments_lexer": "ipython3",
   "version": "3.6.8"
  }
 },
 "nbformat": 4,
 "nbformat_minor": 2
}
